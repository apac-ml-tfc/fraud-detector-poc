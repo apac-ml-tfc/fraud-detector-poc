{
 "cells": [
  {
   "cell_type": "markdown",
   "metadata": {},
   "source": [
    "# An Introduction to the Amazon Fraud Detector API  \n",
    "\n",
    "\n",
    "## Introduction\n",
    "-------\n",
    "\n",
    "[Amazon Fraud Detector](https://aws.amazon.com/fraud-detector/) is a fully managed service that makes it easy to identify potentially fraudulent online activities, such as online payment fraud and the creation of fake accounts. \n",
    "\n",
    "In this notebook, we'll use the Amazon Fraud Detector API to define an entity and event of interest and use CSV data stored in S3 to train a model. Next, we'll derive some rules and create a \"detector\" by combining our entity, event, model, and rules into a single endpoint. Finally, we'll apply the detector to a sample of our data to identify potentially fraudulent events.\n",
    "\n",
    "After running this notebook you should be able to:\n",
    "- Define an Entity and Event\n",
    "- Create a Detector\n",
    "- Train a Machine Learning (ML) Model\n",
    "- Author Rules to identify potential fraud based on the model's score\n",
    "- Apply the Detector's \"predict\" function, to generate a model score and rule outcomes on data\n",
    "\n",
    "If you would like to know more, please check out [Fraud Detector's Documentation](https://docs.aws.amazon.com/frauddetector/). "
   ]
  },
  {
   "cell_type": "markdown",
   "metadata": {},
   "source": [
    "## Setup\n",
    "------\n",
    "First setup your AWS credentials so that Fraud Detector can store and access training data and supporting detector artifacts in S3.\n",
    "\n",
    "Detailed information on setting-up: https://docs.aws.amazon.com/frauddetector/latest/ug/set-up.html\n",
    "\n",
    "To use Amazon Fraud Detector, you have to set up **permissions** that allow access to the Amazon Fraud Detector console and API operations. You also have to **allow Amazon Fraud Detector to perform tasks on your behalf** and to **access resources that you own**. We recommend creating an AWS Identity and Access Management (IAM) user with access restricted to Amazon Fraud Detector operations and required permissions. You can add other permissions as needed.\n",
    "\n",
    "The following policies provide the required permission to use Amazon Fraud Detector:\n",
    "\n",
    "- **AmazonFraudDetectorFullAccessPolicy**  \n",
    "    Allows you to perform the following actions:  \n",
    "    - Access all Amazon Fraud Detector resources  \n",
    "    - List and describe all model endpoints in Amazon SageMaker  \n",
    "    - List all IAM roles in the account  \n",
    "    - List all Amazon S3 buckets  \n",
    "    - Allow IAM Pass Role to pass a role to Amazon Fraud Detector  \n",
    "\n",
    "- **AmazonS3FullAccess**  \n",
    "    Allows full access to Amazon S3. This is required to upload training files to S3.  \n",
    "\n",
    "**IMPORTANT**: each SageMaker notebook needs to assume an **AWS IAM role**. The role of this notebook should include the above 2 policies, and also include in the **Trusted Relationships** the fraud detector service **frauddetector.amazonaws.com**. The final Trusted Relationships part of the role should look similar to this: \n",
    "\n",
    "```\n",
    "{\n",
    "  \"Version\": \"2012-10-17\",\n",
    "  \"Statement\": [\n",
    "    {\n",
    "      \"Effect\": \"Allow\",\n",
    "      \"Principal\": {\n",
    "        \"Service\": [\n",
    "          \"sagemaker.amazonaws.com\",\n",
    "          \"frauddetector.amazonaws.com\"\n",
    "        ]\n",
    "      },\n",
    "      \"Action\": \"sts:AssumeRole\"\n",
    "    }\n",
    "  ]\n",
    "}\n",
    "```"
   ]
  },
  {
   "cell_type": "markdown",
   "metadata": {},
   "source": [
    "## Plan\n",
    "------\n",
    "A *Detector* contains the event, model(s) and rule(s) detection logic for a particular type of fraud that you want to detect. We'll use the following 7 step process to plan a Fraud Detector: \n",
    "\n",
    "1. [Setup your notebook](#Step-1:-Setup-and-verify-your-Python-environment)\n",
    "    - name the major components entity, entity type, model, detector .\n",
    "    - plug in your ARN role\n",
    "    - plug in your S3 Bucket and CSV File\n",
    "\n",
    "\n",
    "2. [Read and understand your data](#Step-2:-Read-and-understand-your-data)\n",
    "    - this will give you an idea of what your dataset contains. \n",
    "    - this will also identify the variables and labels that will need to be created to define your event. \n",
    " \n",
    "\n",
    "3. [Create event Variables and Labels](#Step-3:-Create-Variables-and-Labels)\n",
    "    - this will create the variables and labels in fraud detector \n",
    "  \n",
    "\n",
    "4. [Define your Entity and Event Type](#Step-4:-Define-Entity-and-Event-type)\n",
    "    - What is activity that you are detecting? that's likely your Event Type ex. account_registration\n",
    "    - Who is performing this activity? that's likely your Entity ex. customer \n",
    "\n",
    "\n",
    "5. [Create and train your Model](#Step-5:-Create-and-train-a-ML-model)\n",
    "    - model training takes anywhere from 45-60 minutes, once complete you need to promote your endpoint  \n",
    "    - promote your model\n",
    "\n",
    "\n",
    "6. [Create Detector, generate Rules and assemble your Detector](#Step-6:-Create-a-Detector,-Outcome,-Rules,-and-Detector-version)\n",
    "    - create your detector \n",
    "    - create rules based on your model scores: define outcomes ex:  fraud, investigate and approve \n",
    "    - assemble your detector: combines rules and model into a \"detector\n",
    "\n",
    "\n",
    "7. [Test your Detector](#Step-7:-Get-fraud-predictions)\n",
    "    - Interactively call predict on a handful of record \n",
    "     \n",
    "------"
   ]
  },
  {
   "cell_type": "markdown",
   "metadata": {},
   "source": [
    "# Step 1: Setup and verify your Python environment\n",
    "Boto3 is the Amazon Web Services (AWS) SDK for Python. It enables Python developers to create, configure, and manage AWS services. You can find more details about Boto3 Fraud Detector [here](https://boto3.amazonaws.com/v1/documentation/api/latest/reference/services/frauddetector.html). "
   ]
  },
  {
   "cell_type": "code",
   "execution_count": 1,
   "metadata": {},
   "outputs": [
    {
     "name": "stdout",
     "output_type": "stream",
     "text": [
      "{'detectors': [], 'ResponseMetadata': {'RequestId': '0fcd46b9-e84b-4bd2-b3fc-bad00a4c38a3', 'HTTPStatusCode': 200, 'HTTPHeaders': {'date': 'Mon, 05 Oct 2020 11:16:55 GMT', 'content-type': 'application/x-amz-json-1.1', 'content-length': '16', 'connection': 'keep-alive', 'x-amzn-requestid': '0fcd46b9-e84b-4bd2-b3fc-bad00a4c38a3'}, 'RetryAttempts': 0}}\n"
     ]
    }
   ],
   "source": [
    "%load_ext autoreload\n",
    "%autoreload 2\n",
    "\n",
    "import boto3  # Python library for interacting with AWS resources\n",
    "\n",
    "afdclient = boto3.client('frauddetector')  # create a fraud detector client\n",
    "\n",
    "detectors_list_response = afdclient.get_detectors()\n",
    "print(detectors_list_response)"
   ]
  },
  {
   "cell_type": "markdown",
   "metadata": {},
   "source": [
    "We now have to define the data location that we'll be using, and the IAM role which will give us and Amazon Fraud Detector permission to access that data.\n",
    "\n",
    "Here we assume that you've **already created** a bucket in Amazon S3 and uploaded your data. You can find the `registration_data_20K_full.csv` sample data we use here on the [Get and upload training data page](https://docs.aws.amazon.com/frauddetector/latest/ug/step-1-get-s3-data.html) of the Amazon Fraud Detector Developer Guide."
   ]
  },
  {
   "cell_type": "code",
   "execution_count": 2,
   "metadata": {},
   "outputs": [],
   "source": [
    "S3_BUCKET = # TODO: Enter your bucket name e.g. 'fraud-detector-example-useast2'\n",
    "S3_FILE = 'registration_data_20K_full.csv'\n",
    "S3_DATA_URI = f's3://{S3_BUCKET}/{S3_FILE}'"
   ]
  },
  {
   "cell_type": "code",
   "execution_count": 3,
   "metadata": {},
   "outputs": [
    {
     "name": "stdout",
     "output_type": "stream",
     "text": [
      "arn:aws:iam::024103970757:role/FraudDetectorPoC-SageMakerIamRole-1GMIVZL9MN4G0\n"
     ]
    }
   ],
   "source": [
    "import sagemaker\n",
    "\n",
    "# Assuming you're running this notebook in Amazon SageMaker, we'll just take this notebook's execution role\n",
    "# to access S3. If you need a different configuration, you could replace this with something like:\n",
    "# ROLE_ARN = 'arn:aws:iam::ACCOUNT_ID:role/YOUR_ROLE_DETAILS'\n",
    "ROLE_ARN = sagemaker.get_execution_role()\n",
    "\n",
    "print(ROLE_ARN)"
   ]
  },
  {
   "cell_type": "markdown",
   "metadata": {},
   "source": [
    "# Step 2: Read and understand your data\n",
    "\n",
    "We will be using the sample dataset provided in the Amazon Fraud Detector documentation. The dataset must be in a CSV format and uploaded to an S3 bucket in the same region with the Fraud Detector. For more information on the dataset and how to upload it to S3, please check [here](https://docs.aws.amazon.com/frauddetector/latest/ug/step-1-get-s3-data.html)."
   ]
  },
  {
   "cell_type": "code",
   "execution_count": 4,
   "metadata": {},
   "outputs": [
    {
     "data": {
      "text/html": [
       "<div>\n",
       "<style scoped>\n",
       "    .dataframe tbody tr th:only-of-type {\n",
       "        vertical-align: middle;\n",
       "    }\n",
       "\n",
       "    .dataframe tbody tr th {\n",
       "        vertical-align: top;\n",
       "    }\n",
       "\n",
       "    .dataframe thead th {\n",
       "        text-align: right;\n",
       "    }\n",
       "</style>\n",
       "<table border=\"1\" class=\"dataframe\">\n",
       "  <thead>\n",
       "    <tr style=\"text-align: right;\">\n",
       "      <th></th>\n",
       "      <th>ip_address</th>\n",
       "      <th>email_address</th>\n",
       "      <th>billing_state</th>\n",
       "      <th>user_agent</th>\n",
       "      <th>billing_postal</th>\n",
       "      <th>phone_number</th>\n",
       "      <th>EVENT_TIMESTAMP</th>\n",
       "      <th>billing_address</th>\n",
       "      <th>EVENT_LABEL</th>\n",
       "    </tr>\n",
       "  </thead>\n",
       "  <tbody>\n",
       "    <tr>\n",
       "      <th>0</th>\n",
       "      <td>112.136.132.151</td>\n",
       "      <td>fake_cgonzales@example.net</td>\n",
       "      <td>NC</td>\n",
       "      <td>Mozilla/5.0 (iPad; CPU iPad OS 10_3_3 like Mac...</td>\n",
       "      <td>34491</td>\n",
       "      <td>(555)333 - 9246</td>\n",
       "      <td>2020-02-22 01:38:31</td>\n",
       "      <td>12351 Amanda Knolls Fake St.</td>\n",
       "      <td>legit</td>\n",
       "    </tr>\n",
       "    <tr>\n",
       "      <th>1</th>\n",
       "      <td>192.169.234.143</td>\n",
       "      <td>fake_dustin64@example.net</td>\n",
       "      <td>CO</td>\n",
       "      <td>Mozilla/5.0 (Windows; U; Windows NT 6.1) Apple...</td>\n",
       "      <td>34555</td>\n",
       "      <td>(555)779 - 5604</td>\n",
       "      <td>2020-04-08 23:29:41</td>\n",
       "      <td>691 Deborah Estate Fake St.</td>\n",
       "      <td>legit</td>\n",
       "    </tr>\n",
       "    <tr>\n",
       "      <th>2</th>\n",
       "      <td>185.112.224.79</td>\n",
       "      <td>fake_samuel59@example.net</td>\n",
       "      <td>CO</td>\n",
       "      <td>Mozilla/5.0 (Macintosh; U; Intel Mac OS X 10_7...</td>\n",
       "      <td>33611</td>\n",
       "      <td>(555)948 - 9198</td>\n",
       "      <td>2020-06-28 10:26:20</td>\n",
       "      <td>28583 Joseph Tunnel Fake St.</td>\n",
       "      <td>legit</td>\n",
       "    </tr>\n",
       "    <tr>\n",
       "      <th>3</th>\n",
       "      <td>68.73.183.186</td>\n",
       "      <td>fake_tinalopez@example.net</td>\n",
       "      <td>TN</td>\n",
       "      <td>Mozilla/5.0 (Linux; Android 7.1.1) AppleWebKit...</td>\n",
       "      <td>33520</td>\n",
       "      <td>(555)477 - 7885</td>\n",
       "      <td>2020-04-28 10:23:36</td>\n",
       "      <td>019 Linda Via Fake St.</td>\n",
       "      <td>legit</td>\n",
       "    </tr>\n",
       "    <tr>\n",
       "      <th>4</th>\n",
       "      <td>117.65.246.206</td>\n",
       "      <td>fake_alyssa53@example.com</td>\n",
       "      <td>NM</td>\n",
       "      <td>Mozilla/5.0 (compatible; MSIE 8.0; Windows NT ...</td>\n",
       "      <td>33889</td>\n",
       "      <td>(555)873 - 2599</td>\n",
       "      <td>2020-06-07 16:42:35</td>\n",
       "      <td>1023 Cook Loaf Fake St.</td>\n",
       "      <td>legit</td>\n",
       "    </tr>\n",
       "  </tbody>\n",
       "</table>\n",
       "</div>"
      ],
      "text/plain": [
       "        ip_address               email_address billing_state  \\\n",
       "0  112.136.132.151  fake_cgonzales@example.net            NC   \n",
       "1  192.169.234.143   fake_dustin64@example.net            CO   \n",
       "2   185.112.224.79   fake_samuel59@example.net            CO   \n",
       "3    68.73.183.186  fake_tinalopez@example.net            TN   \n",
       "4   117.65.246.206   fake_alyssa53@example.com            NM   \n",
       "\n",
       "                                          user_agent  billing_postal  \\\n",
       "0  Mozilla/5.0 (iPad; CPU iPad OS 10_3_3 like Mac...           34491   \n",
       "1  Mozilla/5.0 (Windows; U; Windows NT 6.1) Apple...           34555   \n",
       "2  Mozilla/5.0 (Macintosh; U; Intel Mac OS X 10_7...           33611   \n",
       "3  Mozilla/5.0 (Linux; Android 7.1.1) AppleWebKit...           33520   \n",
       "4  Mozilla/5.0 (compatible; MSIE 8.0; Windows NT ...           33889   \n",
       "\n",
       "      phone_number      EVENT_TIMESTAMP               billing_address  \\\n",
       "0  (555)333 - 9246  2020-02-22 01:38:31  12351 Amanda Knolls Fake St.   \n",
       "1  (555)779 - 5604  2020-04-08 23:29:41   691 Deborah Estate Fake St.   \n",
       "2  (555)948 - 9198  2020-06-28 10:26:20  28583 Joseph Tunnel Fake St.   \n",
       "3  (555)477 - 7885  2020-04-28 10:23:36        019 Linda Via Fake St.   \n",
       "4  (555)873 - 2599  2020-06-07 16:42:35       1023 Cook Loaf Fake St.   \n",
       "\n",
       "  EVENT_LABEL  \n",
       "0       legit  \n",
       "1       legit  \n",
       "2       legit  \n",
       "3       legit  \n",
       "4       legit  "
      ]
     },
     "execution_count": 4,
     "metadata": {},
     "output_type": "execute_result"
    }
   ],
   "source": [
    "import pandas as pd\n",
    "\n",
    "# connect to S3, get csv file, and convert it to a pandas dataframe\n",
    "s3 = boto3.resource('s3')\n",
    "csv_data = s3.Object(S3_BUCKET, S3_FILE).get()['Body']\n",
    "df_data = pd.read_csv(csv_data)\n",
    "\n",
    "df_data.head(5)"
   ]
  },
  {
   "cell_type": "code",
   "execution_count": 5,
   "metadata": {},
   "outputs": [
    {
     "name": "stdout",
     "output_type": "stream",
     "text": [
      "<class 'pandas.core.frame.DataFrame'>\n",
      "RangeIndex: 20000 entries, 0 to 19999\n",
      "Data columns (total 9 columns):\n",
      " #   Column           Non-Null Count  Dtype \n",
      "---  ------           --------------  ----- \n",
      " 0   ip_address       20000 non-null  object\n",
      " 1   email_address    20000 non-null  object\n",
      " 2   billing_state    20000 non-null  object\n",
      " 3   user_agent       20000 non-null  object\n",
      " 4   billing_postal   20000 non-null  int64 \n",
      " 5   phone_number     20000 non-null  object\n",
      " 6   EVENT_TIMESTAMP  20000 non-null  object\n",
      " 7   billing_address  20000 non-null  object\n",
      " 8   EVENT_LABEL      20000 non-null  object\n",
      "dtypes: int64(1), object(8)\n",
      "memory usage: 1.4+ MB\n"
     ]
    }
   ],
   "source": [
    "df_data.info()  # general info about the data"
   ]
  },
  {
   "cell_type": "markdown",
   "metadata": {},
   "source": [
    "Our dataframe has **20K records**, and **9 features**. Of these 9 features, 2 are mandatory for Amazon Fraud Detector: ```EVENT_TIMESTAMP``` and ```EVENT_LABEL```. The rest 7 features can be used as **variables** in Amazon Fraud Detector, in order to train a Machine Learning model. "
   ]
  },
  {
   "cell_type": "code",
   "execution_count": 6,
   "metadata": {},
   "outputs": [
    {
     "data": {
      "image/png": "[encoded data removed]",
      "text/plain": [
       "<Figure size 576x396 with 1 Axes>"
      ]
     },
     "metadata": {},
     "output_type": "display_data"
    },
    {
     "data": {
      "text/html": [
       "<div>\n",
       "<style scoped>\n",
       "    .dataframe tbody tr th:only-of-type {\n",
       "        vertical-align: middle;\n",
       "    }\n",
       "\n",
       "    .dataframe tbody tr th {\n",
       "        vertical-align: top;\n",
       "    }\n",
       "\n",
       "    .dataframe thead th {\n",
       "        text-align: right;\n",
       "    }\n",
       "</style>\n",
       "<table border=\"1\" class=\"dataframe\">\n",
       "  <thead>\n",
       "    <tr style=\"text-align: right;\">\n",
       "      <th></th>\n",
       "      <th>Records</th>\n",
       "      <th>Percentage</th>\n",
       "    </tr>\n",
       "  </thead>\n",
       "  <tbody>\n",
       "    <tr>\n",
       "      <th>legit</th>\n",
       "      <td>18991</td>\n",
       "      <td>94.955</td>\n",
       "    </tr>\n",
       "    <tr>\n",
       "      <th>fraud</th>\n",
       "      <td>1009</td>\n",
       "      <td>5.045</td>\n",
       "    </tr>\n",
       "  </tbody>\n",
       "</table>\n",
       "</div>"
      ],
      "text/plain": [
       "       Records  Percentage\n",
       "legit    18991      94.955\n",
       "fraud     1009       5.045"
      ]
     },
     "execution_count": 6,
     "metadata": {},
     "output_type": "execute_result"
    }
   ],
   "source": [
    "import matplotlib.pyplot as plt\n",
    "plt.style.use('seaborn')\n",
    "\n",
    "input_label_counts = df_data.EVENT_LABEL.value_counts().to_frame('Records')\n",
    "input_label_counts.plot.barh(title='Number of records by input label')\n",
    "plt.show()\n",
    "input_label_counts['Percentage'] = 100 * input_label_counts['Records'] / len(df_data)\n",
    "input_label_counts.head()"
   ]
  },
  {
   "cell_type": "markdown",
   "metadata": {},
   "source": [
    "As expected, there is a big class imbalance. However, Amazon Fraud Detector can take care of these cases, as long as, **fraudulent cases are more than 4%** of the whole data, or 400 cases within a 10K dataset."
   ]
  },
  {
   "cell_type": "markdown",
   "metadata": {},
   "source": [
    "# Step 3: Create Variables and Labels"
   ]
  },
  {
   "cell_type": "markdown",
   "metadata": {},
   "source": [
    "## Variables\n",
    "Variables are the *features* that we will use in our ML models. We have to choose which of the dataframe columns will be used for that, and we have to **map** them to the specific [**variable types**](https://docs.aws.amazon.com/frauddetector/latest/ug/create-a-variable.html#variable-types) that Amazon Fraud Detector offers."
   ]
  },
  {
   "cell_type": "code",
   "execution_count": 7,
   "metadata": {},
   "outputs": [
    {
     "data": {
      "text/plain": [
       "{'ResponseMetadata': {'RequestId': '75906449-da45-4d73-848f-30d70b1709f4',\n",
       "  'HTTPStatusCode': 200,\n",
       "  'HTTPHeaders': {'date': 'Mon, 05 Oct 2020 11:18:52 GMT',\n",
       "   'content-type': 'application/x-amz-json-1.1',\n",
       "   'content-length': '2',\n",
       "   'connection': 'keep-alive',\n",
       "   'x-amzn-requestid': '75906449-da45-4d73-848f-30d70b1709f4'},\n",
       "  'RetryAttempts': 0}}"
      ]
     },
     "execution_count": 7,
     "metadata": {},
     "output_type": "execute_result"
    }
   ],
   "source": [
    "# Create variable email_address\n",
    "afdclient.create_variable(\n",
    "    name='email_address',\n",
    "    variableType='EMAIL_ADDRESS',\n",
    "    dataSource='EVENT',\n",
    "    dataType='STRING',\n",
    "    defaultValue='<unknown>',\n",
    ")\n",
    "\n",
    "# Create variable ip_address\n",
    "afdclient.create_variable(\n",
    "    name='ip_address',\n",
    "    variableType='IP_ADDRESS',\n",
    "    dataSource='EVENT',\n",
    "    dataType='STRING',\n",
    "    defaultValue='<unknown>',\n",
    ")\n",
    "\n",
    "# Create variable billing_state\n",
    "afdclient.create_variable(\n",
    "    name='billing_state',\n",
    "    variableType='BILLING_STATE',\n",
    "    dataSource='EVENT',\n",
    "    dataType='STRING',\n",
    "    defaultValue='<unknown>',\n",
    ")\n",
    "\n",
    "# Create variable user_agent\n",
    "afdclient.create_variable(\n",
    "    name='user_agent',\n",
    "    variableType='USERAGENT',\n",
    "    dataSource='EVENT',\n",
    "    dataType='STRING',\n",
    "    defaultValue='<unknown>',\n",
    ")\n",
    "\n",
    "# Create variable billing_postal\n",
    "afdclient.create_variable(\n",
    "    name='billing_postal',\n",
    "    variableType='BILLING_ZIP',\n",
    "    dataSource='EVENT',\n",
    "    dataType='STRING',\n",
    "    defaultValue='<unknown>',\n",
    ")\n",
    "\n",
    "# Create variable phone_number\n",
    "afdclient.create_variable(\n",
    "    name='phone_number',\n",
    "    variableType='PHONE_NUMBER',\n",
    "    dataSource='EVENT',\n",
    "    dataType='STRING',\n",
    "    defaultValue='<unknown>',\n",
    ")\n",
    "\n",
    "# Create variable billing_address\n",
    "afdclient.create_variable(\n",
    "    name='billing_address',\n",
    "    variableType='BILLING_ADDRESS_L1',\n",
    "    dataSource='EVENT',\n",
    "    dataType='STRING',\n",
    "    defaultValue='<unknown>',\n",
    ")"
   ]
  },
  {
   "cell_type": "markdown",
   "metadata": {},
   "source": [
    "## Labels\n",
    "Labels are the **ground truth values that describe whether an event is fraudulent or legitimate**. This has to be **exactly the same notation** that is used in our CSV file. For example, a fraudulent case could be highlighted as 'fraud', 'Fraud', '1', 'F' etc., while a legitimate even could be indicated as 'legit', 'Legit', '0', 'L' etc."
   ]
  },
  {
   "cell_type": "code",
   "execution_count": 8,
   "metadata": {},
   "outputs": [
    {
     "data": {
      "text/plain": [
       "{'ResponseMetadata': {'RequestId': '5ca475ed-9622-43f7-88bc-985cae907c4e',\n",
       "  'HTTPStatusCode': 200,\n",
       "  'HTTPHeaders': {'date': 'Mon, 05 Oct 2020 11:19:55 GMT',\n",
       "   'content-type': 'application/x-amz-json-1.1',\n",
       "   'content-length': '2',\n",
       "   'connection': 'keep-alive',\n",
       "   'x-amzn-requestid': '5ca475ed-9622-43f7-88bc-985cae907c4e'},\n",
       "  'RetryAttempts': 0}}"
      ]
     },
     "execution_count": 8,
     "metadata": {},
     "output_type": "execute_result"
    }
   ],
   "source": [
    "# create label for fraud\n",
    "afdclient.put_label(\n",
    "    name='fraud',\n",
    "    description='label for fraud events',\n",
    ")\n",
    "\n",
    "# create label for legit\n",
    "afdclient.put_label(\n",
    "    name='legit',\n",
    "    description='label for legitimate events',\n",
    ")"
   ]
  },
  {
   "cell_type": "markdown",
   "metadata": {},
   "source": [
    "# Step 4: Define Entity and Event type"
   ]
  },
  {
   "cell_type": "markdown",
   "metadata": {},
   "source": [
    "## Entity type\n",
    "\n",
    "An entity type describes **who** will perform the activity (event) which we would like to analyze for fraud. In many cases this is a customer."
   ]
  },
  {
   "cell_type": "code",
   "execution_count": 9,
   "metadata": {},
   "outputs": [
    {
     "data": {
      "text/plain": [
       "{'ResponseMetadata': {'RequestId': '03e64fd7-f637-4f0a-a40b-5f08dd5c7684',\n",
       "  'HTTPStatusCode': 200,\n",
       "  'HTTPHeaders': {'date': 'Mon, 05 Oct 2020 11:20:40 GMT',\n",
       "   'content-type': 'application/x-amz-json-1.1',\n",
       "   'content-length': '2',\n",
       "   'connection': 'keep-alive',\n",
       "   'x-amzn-requestid': '03e64fd7-f637-4f0a-a40b-5f08dd5c7684'},\n",
       "  'RetryAttempts': 0}}"
      ]
     },
     "execution_count": 9,
     "metadata": {},
     "output_type": "execute_result"
    }
   ],
   "source": [
    "# create an entity type\n",
    "afdclient.put_entity_type(\n",
    "    name='sample_customer',\n",
    "    description='sample customer entity type',\n",
    ")"
   ]
  },
  {
   "cell_type": "markdown",
   "metadata": {},
   "source": [
    "## Event type\n",
    "The Event is the **activity** that the Entity will perform, which will be analyzed by Amazon Fraud Detector. Once defined, you can build Models and Detectors that evaluate the risk for specific event types. For example, an Event could be a \"sample registration\" task that a customer would perform. Other Event types could be an online transaction, the submission of a comment/review etc. When we define an Event type, we need to also include the Variables and Labels that we created in our previous step."
   ]
  },
  {
   "cell_type": "code",
   "execution_count": 10,
   "metadata": {},
   "outputs": [
    {
     "data": {
      "text/plain": [
       "{'ResponseMetadata': {'RequestId': '6c777944-aa6b-4e55-a765-3599144ccdcd',\n",
       "  'HTTPStatusCode': 200,\n",
       "  'HTTPHeaders': {'date': 'Mon, 05 Oct 2020 11:21:33 GMT',\n",
       "   'content-type': 'application/x-amz-json-1.1',\n",
       "   'content-length': '2',\n",
       "   'connection': 'keep-alive',\n",
       "   'x-amzn-requestid': '6c777944-aa6b-4e55-a765-3599144ccdcd'},\n",
       "  'RetryAttempts': 0}}"
      ]
     },
     "execution_count": 10,
     "metadata": {},
     "output_type": "execute_result"
    }
   ],
   "source": [
    "afdclient.put_event_type(\n",
    "    name='sample_registration',\n",
    "    eventVariables=[\n",
    "        'ip_address',\n",
    "        'email_address',\n",
    "        'billing_state',\n",
    "        'user_agent',\n",
    "        'billing_postal',\n",
    "        'phone_number',\n",
    "        'billing_address'\n",
    "    ],\n",
    "    labels=['legit', 'fraud'],\n",
    "    entityTypes=['sample_customer'],\n",
    ")"
   ]
  },
  {
   "cell_type": "markdown",
   "metadata": {},
   "source": [
    "# Step 5: Create and train a ML model\n",
    "\n",
    "Amazon Fraud Detector models learn to detect fraud for a specific event type. In Amazon Fraud Detector, you **first create a Model**, which acts as a **container** for your **Model versions**. Each time you train a model, a new version is created. "
   ]
  },
  {
   "cell_type": "markdown",
   "metadata": {},
   "source": [
    "A model version is created by calling the ```CreateModel``` and ```CreateModelVersion``` operations. \n",
    "\n",
    "- ```CreateModel``` initiates the model, which acts as a container for your model versions. \n",
    "\n",
    "- ```CreateModelVersion``` starts the training process, which results in a specific version of the model. A new version of the solution is created each time you call ```CreateModelVersion```. \n"
   ]
  },
  {
   "cell_type": "code",
   "execution_count": 11,
   "metadata": {},
   "outputs": [],
   "source": [
    "MODEL_NAME = 'sample_afd_model_all_variables'"
   ]
  },
  {
   "cell_type": "code",
   "execution_count": 12,
   "metadata": {},
   "outputs": [
    {
     "data": {
      "text/plain": [
       "{'ResponseMetadata': {'RequestId': '1b2dd4aa-a8de-4ec9-b2cc-c1daffabb403',\n",
       "  'HTTPStatusCode': 200,\n",
       "  'HTTPHeaders': {'date': 'Mon, 05 Oct 2020 11:22:03 GMT',\n",
       "   'content-type': 'application/x-amz-json-1.1',\n",
       "   'content-length': '2',\n",
       "   'connection': 'keep-alive',\n",
       "   'x-amzn-requestid': '1b2dd4aa-a8de-4ec9-b2cc-c1daffabb403'},\n",
       "  'RetryAttempts': 0}}"
      ]
     },
     "execution_count": 12,
     "metadata": {},
     "output_type": "execute_result"
    }
   ],
   "source": [
    "# create model container\n",
    "afdclient.create_model(\n",
    "    modelId=MODEL_NAME,\n",
    "    eventTypeName='sample_registration',\n",
    "    modelType='ONLINE_FRAUD_INSIGHTS',\n",
    ")"
   ]
  },
  {
   "cell_type": "code",
   "execution_count": 14,
   "metadata": {},
   "outputs": [
    {
     "data": {
      "text/plain": [
       "{'modelId': 'sample_afd_model_all_variables',\n",
       " 'modelType': 'ONLINE_FRAUD_INSIGHTS',\n",
       " 'modelVersionNumber': '1.0',\n",
       " 'status': 'TRAINING_IN_PROGRESS',\n",
       " 'ResponseMetadata': {'RequestId': '08dc8a6c-d111-41bc-92c8-3989f7242c45',\n",
       "  'HTTPStatusCode': 200,\n",
       "  'HTTPHeaders': {'date': 'Mon, 05 Oct 2020 11:25:21 GMT',\n",
       "   'content-type': 'application/x-amz-json-1.1',\n",
       "   'content-length': '139',\n",
       "   'connection': 'keep-alive',\n",
       "   'x-amzn-requestid': '08dc8a6c-d111-41bc-92c8-3989f7242c45'},\n",
       "  'RetryAttempts': 0}}"
      ]
     },
     "execution_count": 14,
     "metadata": {},
     "output_type": "execute_result"
    }
   ],
   "source": [
    "# start training a new model version\n",
    "afdclient.create_model_version(\n",
    "    modelId=MODEL_NAME,\n",
    "    modelType='ONLINE_FRAUD_INSIGHTS',\n",
    "    trainingDataSource='EXTERNAL_EVENTS',\n",
    "    trainingDataSchema={\n",
    "        'modelVariables': [\n",
    "            'ip_address',\n",
    "            'email_address',\n",
    "            'billing_state',\n",
    "            'user_agent',\n",
    "            'billing_postal',\n",
    "            'phone_number',\n",
    "            'billing_address',\n",
    "        ],\n",
    "        'labelSchema': {\n",
    "            'labelMapper': {\n",
    "                'FRAUD': ['fraud'],\n",
    "                'LEGIT': ['legit'],\n",
    "            },\n",
    "        },\n",
    "    }, \n",
    "    externalEventsDetail = {\n",
    "        'dataLocation': S3_DATA_URI,\n",
    "        'dataAccessRoleArn': ROLE_ARN,\n",
    "    },\n",
    ")"
   ]
  },
  {
   "cell_type": "markdown",
   "metadata": {},
   "source": [
    "Training can take saveral hours, depending on your dataset. In order to know how training progresses, we use a small utility function that **polls the training process** in regular intervals and displays the progress. "
   ]
  },
  {
   "cell_type": "code",
   "execution_count": null,
   "metadata": {},
   "outputs": [
    {
     "name": "stdout",
     "output_type": "stream",
     "text": [
      "Initial status: TRAINING_IN_PROGRESS\n",
      "\\ Status: TRAINING_IN_PROGRESS [Since: relativedelta(minutes=+53, seconds=+17)]\n",
      "| Status: TRAINING_COMPLETE [Since: relativedelta()]                           \n",
      "Training finished\n"
     ]
    }
   ],
   "source": [
    "import util  # (See the util/ folder)\n",
    "\n",
    "def is_training_complete(desc):\n",
    "    status = desc['status']\n",
    "    if status == 'TRAINING_COMPLETE':\n",
    "        return True\n",
    "    elif 'FAILED' in status:\n",
    "        raise ValueError(f'Training job failed!\\n{desc}')\n",
    "\n",
    "util.progress.polling_spinner(\n",
    "    fn_poll_result=lambda: afdclient.get_model_version(\n",
    "        modelId=MODEL_NAME, \n",
    "        modelType='ONLINE_FRAUD_INSIGHTS', \n",
    "        modelVersionNumber='1.0',\n",
    "    ),\n",
    "    fn_is_finished=is_training_complete,\n",
    "    fn_stringify_result=lambda d: d['status'],\n",
    "    poll_secs=60,\n",
    "    timeout_secs=3*60*60,  # Max 3 hours\n",
    ")\n",
    "print('Training finished')"
   ]
  },
  {
   "cell_type": "markdown",
   "metadata": {},
   "source": [
    "Amazon Fraud Detector keeps aside 10% of the data for validation/testing purposes. You can check the performance of the model by requesting the ROC AUC metric."
   ]
  },
  {
   "cell_type": "code",
   "execution_count": 16,
   "metadata": {},
   "outputs": [
    {
     "name": "stdout",
     "output_type": "stream",
     "text": [
      "ROC AUC: 0.9585531949996948\n"
     ]
    }
   ],
   "source": [
    "# get model report for the trained model\n",
    "\n",
    "model_report = afdclient.describe_model_versions(\n",
    "    modelId=MODEL_NAME,\n",
    "    modelVersionNumber='1.0',\n",
    "    modelType='ONLINE_FRAUD_INSIGHTS',\n",
    ")\n",
    "\n",
    "print('ROC AUC:', model_report['modelVersionDetails'][0]['trainingResult']['trainingMetrics']['auc'])"
   ]
  },
  {
   "cell_type": "markdown",
   "metadata": {},
   "source": [
    "After reviewing the model performance, we need to **activate the Model** to make it available for use by Detectors, in real-time fraud predictions. Amazon Fraud Detector will deploy the model in **multiple availability zones** for redundancy with **auto-scaling turned on** to ensure the model scales with the number of fraud predictions you are making. To activate the model, call the ```UpdateModelVersionStatus``` API and update the status to ```ACTIVE```."
   ]
  },
  {
   "cell_type": "code",
   "execution_count": 17,
   "metadata": {},
   "outputs": [],
   "source": [
    "# Select target model status:\n",
    "TARGET_MODEL_STATUS = 'ACTIVE' # or 'INACTIVE'\n",
    "\n",
    "response = afdclient.update_model_version_status (\n",
    "    modelId=MODEL_NAME,\n",
    "    modelType='ONLINE_FRAUD_INSIGHTS',\n",
    "    modelVersionNumber='1.00',\n",
    "    status=TARGET_MODEL_STATUS,\n",
    ")\n"
   ]
  },
  {
   "cell_type": "markdown",
   "metadata": {},
   "source": [
    "Deployment may take ~10min, so, we also poll regularly, to know how the process progresses."
   ]
  },
  {
   "cell_type": "code",
   "execution_count": 18,
   "metadata": {},
   "outputs": [
    {
     "name": "stdout",
     "output_type": "stream",
     "text": [
      "Initial status: ACTIVATE_IN_PROGRESS\n",
      "\\ Status: ACTIVATE_IN_PROGRESS [Since: relativedelta(minutes=+9, seconds=+4)] \n",
      "| Status: ACTIVE [Since: relativedelta()]                                     \n",
      "Update complete\n"
     ]
    }
   ],
   "source": [
    "def is_model_update_complete(desc):\n",
    "    status = desc['status']\n",
    "    if status == TARGET_MODEL_STATUS:\n",
    "        return True\n",
    "    elif 'FAILED' in status:\n",
    "        raise ValueError(f'Deployment failed!\\n{desc}')\n",
    "\n",
    "util.progress.polling_spinner(\n",
    "    fn_poll_result=lambda: afdclient.get_model_version(\n",
    "        modelId=MODEL_NAME, \n",
    "        modelType='ONLINE_FRAUD_INSIGHTS', \n",
    "        modelVersionNumber='1.0',\n",
    "    ),\n",
    "    fn_is_finished=is_model_update_complete,\n",
    "    fn_stringify_result=lambda d: d['status'],\n",
    "    poll_secs=30,\n",
    "    timeout_secs=30*60,  # Max 30min\n",
    ")\n",
    "print('Update complete')"
   ]
  },
  {
   "cell_type": "markdown",
   "metadata": {},
   "source": [
    "# Step 6: Create a Detector, Outcome, Rules, and Detector version\n",
    "\n",
    "A detector contains the detection logic, such as the models and rules, for a particular event that you want to evaluate for fraud. During a fraud prediction, you will specify the detector that you want to use to evaluate your event. To create a detector, complete the following steps. "
   ]
  },
  {
   "cell_type": "markdown",
   "metadata": {},
   "source": [
    "i. **Create a detector**. A detector acts as a container for your detector versions."
   ]
  },
  {
   "cell_type": "code",
   "execution_count": 19,
   "metadata": {},
   "outputs": [],
   "source": [
    "DETECTOR_NAME = 'sample_detector_all_variables'"
   ]
  },
  {
   "cell_type": "code",
   "execution_count": 20,
   "metadata": {},
   "outputs": [
    {
     "data": {
      "text/plain": [
       "{'ResponseMetadata': {'RequestId': 'ac41b38e-1419-4c7f-82b6-4dd011f46093',\n",
       "  'HTTPStatusCode': 200,\n",
       "  'HTTPHeaders': {'date': 'Mon, 05 Oct 2020 12:31:42 GMT',\n",
       "   'content-type': 'application/x-amz-json-1.1',\n",
       "   'content-length': '2',\n",
       "   'connection': 'keep-alive',\n",
       "   'x-amzn-requestid': 'ac41b38e-1419-4c7f-82b6-4dd011f46093'},\n",
       "  'RetryAttempts': 0}}"
      ]
     },
     "execution_count": 20,
     "metadata": {},
     "output_type": "execute_result"
    }
   ],
   "source": [
    "afdclient.put_detector(\n",
    "    detectorId=DETECTOR_NAME,\n",
    "    eventTypeName='sample_registration',\n",
    ")"
   ]
  },
  {
   "cell_type": "markdown",
   "metadata": {},
   "source": [
    "ii. **Create outcomes**. An outcome is the result of a fraud prediction. Create an outcome for each possible fraud prediction result. For example, you may want outcomes to represent risk levels (high_risk, medium_risk, and low_risk) or actions (approve, review). Once created, you can add one or more outcomes to a rule."
   ]
  },
  {
   "cell_type": "code",
   "execution_count": 21,
   "metadata": {},
   "outputs": [
    {
     "data": {
      "text/plain": [
       "{'ResponseMetadata': {'RequestId': '68e43e62-ce8e-4915-b540-ca169a131cd7',\n",
       "  'HTTPStatusCode': 200,\n",
       "  'HTTPHeaders': {'date': 'Mon, 05 Oct 2020 12:31:49 GMT',\n",
       "   'content-type': 'application/x-amz-json-1.1',\n",
       "   'content-length': '2',\n",
       "   'connection': 'keep-alive',\n",
       "   'x-amzn-requestid': '68e43e62-ce8e-4915-b540-ca169a131cd7'},\n",
       "  'RetryAttempts': 0}}"
      ]
     },
     "execution_count": 21,
     "metadata": {},
     "output_type": "execute_result"
    }
   ],
   "source": [
    "# for high risk cases\n",
    "afdclient.put_outcome(\n",
    "    name='verify_customer',\n",
    "    description='this outcome initiates a verification workflow',\n",
    ")\n",
    "\n",
    "# for medium risk cases\n",
    "afdclient.put_outcome(\n",
    "    name='review',\n",
    "    description='this outcome sidelines event for review',\n",
    ")\n",
    "\n",
    "# for low risk cases\n",
    "afdclient.put_outcome(\n",
    "    name='approve',\n",
    "    description='this outcome approves the event',\n",
    ")"
   ]
  },
  {
   "cell_type": "markdown",
   "metadata": {},
   "source": [
    "iii. **Create rules**. A rule is a condition that tells Amazon Fraud Detector how to interpret variable values during a fraud prediction. A rule consists of one or more variables, a logic expression, and one or more outcomes. A **detector must have at least one associated rule**. Rules in a detector are evaluated as part of a fraud prediction. \n",
    " \n",
    " Each rule must contain a single expression that captures your business logic. All expressions must evaluate to a Boolean value (true or false) and be less than 4,000 characters in length. If-else type conditions are not supported. All variables used in the expression must be predefined in the evaluated event type. "
   ]
  },
  {
   "cell_type": "code",
   "execution_count": 22,
   "metadata": {},
   "outputs": [],
   "source": [
    "# in order to use the model score with rules, we need to construct a predefined variable name\n",
    "\n",
    "MODEL_INSIGHTS = f'{MODEL_NAME}_insightscore'  # to be used when getting real-time predictions\n",
    "MODEL_SCORE = f'${MODEL_INSIGHTS}'  # to be used when defining rules"
   ]
  },
  {
   "cell_type": "code",
   "execution_count": 23,
   "metadata": {},
   "outputs": [
    {
     "data": {
      "text/plain": [
       "{'rule': {'detectorId': 'sample_detector_all_variables',\n",
       "  'ruleId': 'low_fraud_risk',\n",
       "  'ruleVersion': '1'},\n",
       " 'ResponseMetadata': {'RequestId': '5bd96850-7de6-4f6c-b038-aa1839fee636',\n",
       "  'HTTPStatusCode': 200,\n",
       "  'HTTPHeaders': {'date': 'Mon, 05 Oct 2020 12:32:37 GMT',\n",
       "   'content-type': 'application/x-amz-json-1.1',\n",
       "   'content-length': '99',\n",
       "   'connection': 'keep-alive',\n",
       "   'x-amzn-requestid': '5bd96850-7de6-4f6c-b038-aa1839fee636'},\n",
       "  'RetryAttempts': 0}}"
      ]
     },
     "execution_count": 23,
     "metadata": {},
     "output_type": "execute_result"
    }
   ],
   "source": [
    "# for high risk cases\n",
    "afdclient.create_rule(\n",
    "    ruleId='high_fraud_risk',\n",
    "    detectorId=DETECTOR_NAME,\n",
    "    expression=f'{MODEL_SCORE} > 900',\n",
    "    language='DETECTORPL',\n",
    "    outcomes=['verify_customer'],\n",
    ")\n",
    "\n",
    "# for medium risk cases\n",
    "afdclient.create_rule(\n",
    "    ruleId='medium_fraud_risk',\n",
    "    detectorId=DETECTOR_NAME,\n",
    "    expression=f'{MODEL_SCORE} <= 900 and {MODEL_SCORE} > 700',\n",
    "    language='DETECTORPL',\n",
    "    outcomes=['review'],\n",
    ")\n",
    "\n",
    "# for low risk cases\n",
    "afdclient.create_rule(\n",
    "    ruleId='low_fraud_risk',\n",
    "    detectorId=DETECTOR_NAME,\n",
    "    expression=f'{MODEL_SCORE} <= 700',\n",
    "    language='DETECTORPL',\n",
    "    outcomes=['approve'],\n",
    ")"
   ]
  },
  {
   "cell_type": "markdown",
   "metadata": {},
   "source": [
    "You can **update a rule** by calling the ```UpdateRuleVersion``` API. The following example updates the model score thresholds for the rules high_fraud_risk and medium_fraud_risk from 900 to 950. "
   ]
  },
  {
   "cell_type": "code",
   "execution_count": 24,
   "metadata": {},
   "outputs": [
    {
     "data": {
      "text/plain": [
       "{'rule': {'detectorId': 'sample_detector_all_variables',\n",
       "  'ruleId': 'medium_fraud_risk',\n",
       "  'ruleVersion': '2'},\n",
       " 'ResponseMetadata': {'RequestId': 'd3389e32-4b4c-45d0-b1e5-2811f7d09fde',\n",
       "  'HTTPStatusCode': 200,\n",
       "  'HTTPHeaders': {'date': 'Mon, 05 Oct 2020 12:32:44 GMT',\n",
       "   'content-type': 'application/x-amz-json-1.1',\n",
       "   'content-length': '102',\n",
       "   'connection': 'keep-alive',\n",
       "   'x-amzn-requestid': 'd3389e32-4b4c-45d0-b1e5-2811f7d09fde'},\n",
       "  'RetryAttempts': 0}}"
      ]
     },
     "execution_count": 24,
     "metadata": {},
     "output_type": "execute_result"
    }
   ],
   "source": [
    "afdclient.update_rule_version(\n",
    "    rule={\n",
    "        'detectorId': DETECTOR_NAME,\n",
    "        'ruleId': 'high_fraud_risk',\n",
    "        'ruleVersion': '1',\n",
    "    },\n",
    "    expression=f'{MODEL_SCORE} > 950',\n",
    "    language='DETECTORPL',\n",
    "    outcomes=['verify_customer'],\n",
    ")\n",
    "\n",
    "afdclient.update_rule_version(\n",
    "    rule={\n",
    "        'detectorId': DETECTOR_NAME,\n",
    "        'ruleId': 'medium_fraud_risk',\n",
    "        'ruleVersion': '1',\n",
    "    },\n",
    "    expression=f'{MODEL_SCORE} <= 950 and {MODEL_SCORE} > 700',\n",
    "    language='DETECTORPL',\n",
    "    outcomes=['review'],\n",
    ")"
   ]
  },
  {
   "cell_type": "markdown",
   "metadata": {},
   "source": [
    "iv. **Create a detector version**. A detector version defines the specific models and rules that will be run as part of a fraud prediction. Each detector version has a status of ```DRAFT```, ```ACTIVE```, or ```INACTIVE```. Only one detector version can be in ```ACTIVE``` status at a time. During the ```GetEventPrediction``` request, Amazon Fraud Detector will use the ```ACTIVE``` detector if no ```DetectorVersion``` is specified. "
   ]
  },
  {
   "cell_type": "code",
   "execution_count": 25,
   "metadata": {},
   "outputs": [
    {
     "data": {
      "text/plain": [
       "{'ResponseMetadata': {'RequestId': '09bcaab8-b3fc-479c-9102-d6f8d1ebbf6f',\n",
       "  'HTTPStatusCode': 200,\n",
       "  'HTTPHeaders': {'date': 'Mon, 05 Oct 2020 12:32:50 GMT',\n",
       "   'content-type': 'application/x-amz-json-1.1',\n",
       "   'content-length': '2',\n",
       "   'connection': 'keep-alive',\n",
       "   'x-amzn-requestid': '09bcaab8-b3fc-479c-9102-d6f8d1ebbf6f'},\n",
       "  'RetryAttempts': 0}}"
      ]
     },
     "execution_count": 25,
     "metadata": {},
     "output_type": "execute_result"
    }
   ],
   "source": [
    "afdclient.create_detector_version(\n",
    "    detectorId=DETECTOR_NAME,\n",
    "    rules=[{\n",
    "        'detectorId': DETECTOR_NAME,\n",
    "        'ruleId': 'high_fraud_risk',\n",
    "        'ruleVersion': '1',\n",
    "    },\n",
    "    {\n",
    "        'detectorId': DETECTOR_NAME,\n",
    "        'ruleId': 'medium_fraud_risk',\n",
    "        'ruleVersion': '1',\n",
    "    },\n",
    "    {\n",
    "        'detectorId': DETECTOR_NAME,\n",
    "        'ruleId': 'low_fraud_risk',\n",
    "        'ruleVersion': '1',\n",
    "    }\n",
    "    ],\n",
    "    modelVersions=[{\n",
    "        'modelId': MODEL_NAME,\n",
    "        'modelType': 'ONLINE_FRAUD_INSIGHTS',\n",
    "        'modelVersionNumber' : '1.00',\n",
    "    }],\n",
    "    ruleExecutionMode='FIRST_MATCHED',\n",
    ")\n",
    "\n",
    "# activate the newly created detector\n",
    "afdclient.update_detector_version_status(\n",
    "    detectorId=DETECTOR_NAME,\n",
    "    detectorVersionId='1',\n",
    "    status='ACTIVE',\n",
    ")"
   ]
  },
  {
   "cell_type": "markdown",
   "metadata": {},
   "source": [
    "# Step 7: Get fraud predictions"
   ]
  },
  {
   "cell_type": "markdown",
   "metadata": {},
   "source": [
    "Getting one individual prediction (legit case)."
   ]
  },
  {
   "cell_type": "code",
   "execution_count": 26,
   "metadata": {},
   "outputs": [
    {
     "name": "stdout",
     "output_type": "stream",
     "text": [
      "ML fraud prediction [0,1000]: 180.0\n",
      "Activated rule: low_fraud_risk\n",
      "Outcome: approve\n"
     ]
    }
   ],
   "source": [
    "response = afdclient.get_event_prediction(\n",
    "    detectorId=DETECTOR_NAME,\n",
    "    eventId='802454d3-f7d8-482d-97e8-c4b6db9a0428',\n",
    "    eventTypeName='sample_registration',\n",
    "    eventTimestamp='2020-07-13T23:18:21Z',\n",
    "    entities=[{'entityType':'sample_customer', 'entityId':'12345'}],\n",
    "    eventVariables={\n",
    "        'email_address': 'johndoe@exampledomain.com',\n",
    "        'ip_address': '1.2.3.4',\n",
    "        'billing_state': 'TX',\n",
    "        'user_agent': 'Mozilla/5.0 (iPad; CPU iPad OS 10_3_3 like Mac OS X) AppleWebKit/532.2 (KHTML, like Gecko) CriOS/34.0.827.0 Mobile/13K063 Safari/532.2',\n",
    "        'billing_postal': '34491',\n",
    "        'phone_number': '(555)333 - 9246',\n",
    "        'billing_address': '12351 Amanda Knolls Fake St.',\n",
    "    },\n",
    ")\n",
    "\n",
    "print('ML fraud prediction [0,1000]:', response['modelScores'][0]['scores'][MODEL_INSIGHTS])\n",
    "print('Activated rule:', response['ruleResults'][0]['ruleId'])\n",
    "print('Outcome:', response['ruleResults'][0]['outcomes'][0])"
   ]
  },
  {
   "cell_type": "markdown",
   "metadata": {},
   "source": [
    "Getting one individual prediction (fraudulent case)."
   ]
  },
  {
   "cell_type": "code",
   "execution_count": 27,
   "metadata": {},
   "outputs": [
    {
     "name": "stdout",
     "output_type": "stream",
     "text": [
      "ML fraud prediction [0,1000]: 999.0\n",
      "Activated rule: high_fraud_risk\n",
      "Outcome: verify_customer\n"
     ]
    }
   ],
   "source": [
    "response = afdclient.get_event_prediction(\n",
    "    detectorId=DETECTOR_NAME,\n",
    "    eventId='802454d3-f7d8-482d-97e8-c4b6db9a0428',\n",
    "    eventTypeName='sample_registration',\n",
    "    eventTimestamp='2020-07-13T23:18:21Z',\n",
    "    entities=[{'entityType':'sample_customer', 'entityId':'12345'}],\n",
    "    eventVariables={\n",
    "        'email_address': 'fake_timothysmith@example.com',\n",
    "        'ip_address': '59.157.144.1',\n",
    "        'billing_state': 'AZ',\n",
    "        'user_agent': 'Mozilla/5.0 (iPod; U; CPU iPhone OS 3_0 like Mac OS X; sid-ET) AppleWebKit/534.17.7 (KHTML, like Gecko) Version/4.0.5 Mobile/8B118 Safari/6534.17.7',\n",
    "        'billing_postal': '32931',\n",
    "        'phone_number': '(555)596 - 5579',\n",
    "        'billing_address': '65898 Amy Estate Fake St.',\n",
    "    },\n",
    ")\n",
    "\n",
    "print('ML fraud prediction [0,1000]:', response['modelScores'][0]['scores'][MODEL_INSIGHTS])\n",
    "print('Activated rule:', response['ruleResults'][0]['ruleId'])\n",
    "print('Outcome:', response['ruleResults'][0]['outcomes'][0])"
   ]
  },
  {
   "cell_type": "code",
   "execution_count": null,
   "metadata": {},
   "outputs": [],
   "source": []
  }
 ],
 "metadata": {
  "kernelspec": {
   "display_name": "conda_python3",
   "language": "python",
   "name": "conda_python3"
  },
  "language_info": {
   "codemirror_mode": {
    "name": "ipython",
    "version": 3
   },
   "file_extension": ".py",
   "mimetype": "text/x-python",
   "name": "python",
   "nbconvert_exporter": "python",
   "pygments_lexer": "ipython3",
   "version": "3.6.10"
  }
 },
 "nbformat": 4,
 "nbformat_minor": 4
}
