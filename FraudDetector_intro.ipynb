{
 "cells": [
  {
   "cell_type": "markdown",
   "metadata": {},
   "source": [
    "# An Introduction to the Amazon Fraud Detector API  \n",
    "\n",
    "\n",
    "## Introduction\n",
    "-------\n",
    "\n",
    "Amazon Fraud Detector is a fully managed service that makes it easy to identify potentially fraudulent online activities, such as online payment fraud and the creation of fake accounts. \n",
    "\n",
    "In this notebook, we'll use the Amazon Fraud Detector API to define an entity and event of interest and use CSV data stored in S3 to train a model. Next, we'll derive some rules and create a \"detector\" by combining our entity, event, model, and rules into a single endpoint. Finally, we'll apply the detector to a sample of our data to identify potentially fraudulent events.\n",
    "\n",
    "After running this notebook you should be able to:\n",
    "- Define an Entity and Event\n",
    "- Create a Detector\n",
    "- Train a Machine Learning (ML) Model\n",
    "- Author Rules to identify potential fraud based on the model's score\n",
    "- Apply the Detector's \"predict\" function, to generate a model score and rule outcomes on data\n",
    "\n",
    "If you would like to know more, please check out [Fraud Detector's Documentation](https://docs.aws.amazon.com/frauddetector/). \n",
    "\n",
    "\n",
    "## Setup\n",
    "------\n",
    "First setup your AWS credentials so that Fraud Detector can store and access training data and supporting detector artifacts in S3.\n",
    "\n",
    "Detailed information on setting-up: https://docs.aws.amazon.com/frauddetector/latest/ug/set-up.html\n",
    "\n",
    "To use Amazon Fraud Detector, you have to set up **permissions** that allow access to the Amazon Fraud Detector console and API operations. You also have to **allow Amazon Fraud Detector to perform tasks on your behalf** and to **access resources that you own**. We recommend creating an AWS Identity and Access Management (IAM) user with access restricted to Amazon Fraud Detector operations and required permissions. You can add other permissions as needed.\n",
    "\n",
    "The following policies provide the required permission to use Amazon Fraud Detector:\n",
    "\n",
    "- **AmazonFraudDetectorFullAccessPolicy**  \n",
    "    Allows you to perform the following actions:  \n",
    "    - Access all Amazon Fraud Detector resources  \n",
    "    - List and describe all model endpoints in Amazon SageMaker  \n",
    "    - List all IAM roles in the account  \n",
    "    - List all Amazon S3 buckets  \n",
    "    - Allow IAM Pass Role to pass a role to Amazon Fraud Detector  \n",
    "\n",
    "- **AmazonS3FullAccess**  \n",
    "    Allows full access to Amazon S3. This is required to upload training files to S3.  \n",
    "\n",
    "**IMPORTANT**: each SageMaker notebook needs to assume an **AWS IAM role**. The role of this notebook should include the above 2 policies, and also include in the **Trusted Relationships** the fraud detector service **frauddetector.amazonaws.com**. The final Trusted Relationships part of the role should look similar to this: \n",
    "\n",
    "```\n",
    "{\n",
    "  \"Version\": \"2012-10-17\",\n",
    "  \"Statement\": [\n",
    "    {\n",
    "      \"Effect\": \"Allow\",\n",
    "      \"Principal\": {\n",
    "        \"Service\": [\n",
    "          \"sagemaker.amazonaws.com\",\n",
    "          \"frauddetector.amazonaws.com\"\n",
    "        ]\n",
    "      },\n",
    "      \"Action\": \"sts:AssumeRole\"\n",
    "    }\n",
    "  ]\n",
    "}\n",
    "```\n",
    "\n",
    "\n",
    "## Plan\n",
    "------\n",
    "A *Detector* contains the event, model(s) and rule(s) detection logic for a particular type of fraud that you want to detect. We'll use the following 7 step process to plan a Fraud Detector: \n",
    "\n",
    "1. [Setup your notebook](#Step-1:-Setup-and-verify-your-Python-environment)\n",
    "    - name the major components entity, entity type, model, detector .\n",
    "    - plug in your ARN role\n",
    "    - plug in your S3 Bucket and CSV File\n",
    "\n",
    "\n",
    "2. [Read and understand your data](#Step-2:-Read-and-understand-your-data)\n",
    "    - this will give you an idea of what your dataset contains. \n",
    "    - this will also identify the variables and labels that will need to be created to define your event. \n",
    " \n",
    "\n",
    "3. [Create event Variables and Labels](#Step-3:-Create-Variables-and-Labels)\n",
    "    - this will create the variables and labels in fraud detector \n",
    "  \n",
    "\n",
    "4. [Define your Entity and Event Type](#Step-4:-Define-Entity-and-Event-type)\n",
    "    - What is activity that you are detecting? that's likely your Event Type ex. account_registration\n",
    "    - Who is performing this activity? that's likely your Entity ex. customer \n",
    "\n",
    "\n",
    "5. [Create and train your Model](#Step-5:-Create-and-train-a-ML-model)\n",
    "    - model training takes anywhere from 45-60 minutes, once complete you need to promote your endpoint  \n",
    "    - promote your model\n",
    "\n",
    "\n",
    "6. [Create Detector, generate Rules and assemble your Detector](#Step-6:-Create-a-Detector,-Outcome,-Rules,-and-Detector-version)\n",
    "    - create your detector \n",
    "    - create rules based on your model scores: define outcomes ex:  fraud, investigate and approve \n",
    "    - assemble your detector: combines rules and model into a \"detector\n",
    "\n",
    "\n",
    "7. [Test your Detector](#Step-7:-Get-fraud-predictions)\n",
    "    - Interactively call predict on a handful of record \n",
    "     \n",
    "------"
   ]
  },
  {
   "cell_type": "markdown",
   "metadata": {},
   "source": [
    "# Step 1: Setup and verify your Python environment\n",
    "Boto3 is the Amazon Web Services (AWS) SDK for Python. It enables Python developers to create, configure, and manage AWS services. You can find more details about Boto3 Fraud Detector [here](https://boto3.amazonaws.com/v1/documentation/api/latest/reference/services/frauddetector.html). "
   ]
  },
  {
   "cell_type": "code",
   "execution_count": 1,
   "metadata": {},
   "outputs": [
    {
     "name": "stdout",
     "output_type": "stream",
     "text": [
      "{'detectors': [], 'ResponseMetadata': {'RequestId': '362d8189-a3f0-48b9-8b36-b14d001c0e16', 'HTTPStatusCode': 200, 'HTTPHeaders': {'content-type': 'application/x-amz-json-1.1', 'date': 'Thu, 10 Sep 2020 03:21:50 GMT', 'x-amzn-requestid': '362d8189-a3f0-48b9-8b36-b14d001c0e16', 'content-length': '16', 'connection': 'keep-alive'}, 'RetryAttempts': 0}}\n"
     ]
    }
   ],
   "source": [
    "import boto3  # Python library for interacting with AWS resources\n",
    "\n",
    "fraudDetector_client = boto3.client('frauddetector')  # create a fraud detector client\n",
    "\n",
    "response = fraudDetector_client.get_detectors()\n",
    "print(response)"
   ]
  },
  {
   "cell_type": "markdown",
   "metadata": {},
   "source": [
    "We now have to define the role and data location that we will be using."
   ]
  },
  {
   "cell_type": "code",
   "execution_count": 3,
   "metadata": {},
   "outputs": [],
   "source": [
    "ARN_ROLE       = \"arn:aws:iam::482414474587:role/service-role/AmazonSageMaker-ExecutionRole-20200907T214769\" \n",
    "S3_BUCKET      = \"fraud-detector-example-useast2\"\n",
    "S3_FILE        = \"registration_data_20K_full.csv\"\n",
    "S3_FILE_LOC    = \"s3://{0}/{1}\".format(S3_BUCKET,S3_FILE)\n"
   ]
  },
  {
   "cell_type": "markdown",
   "metadata": {},
   "source": [
    "# Step 2: Read and understand your data\n",
    "\n",
    "We will be using the sample dataset provided in the Amazon Fraud Detector documentation. The dataset must be in a CSV format and uploaded to an S3 bucket in the same region with the Fraud Detector. For more information on the dataset and how to upload it to S3, please check [here](https://docs.aws.amazon.com/frauddetector/latest/ug/step-1-get-s3-data.html)."
   ]
  },
  {
   "cell_type": "code",
   "execution_count": 4,
   "metadata": {},
   "outputs": [],
   "source": [
    "import pandas as pd\n",
    "\n",
    "# connect to S3, get csv file, and convert it to a pandas dataframe\n",
    "s3_client = boto3.resource('s3')\n",
    "s3_object = s3_client.Object(S3_BUCKET, S3_FILE)\n",
    "body = s3_object.get()['Body']\n",
    "df_data = pd.read_csv(body)"
   ]
  },
  {
   "cell_type": "code",
   "execution_count": 5,
   "metadata": {},
   "outputs": [
    {
     "data": {
      "text/html": [
       "<div>\n",
       "<style scoped>\n",
       "    .dataframe tbody tr th:only-of-type {\n",
       "        vertical-align: middle;\n",
       "    }\n",
       "\n",
       "    .dataframe tbody tr th {\n",
       "        vertical-align: top;\n",
       "    }\n",
       "\n",
       "    .dataframe thead th {\n",
       "        text-align: right;\n",
       "    }\n",
       "</style>\n",
       "<table border=\"1\" class=\"dataframe\">\n",
       "  <thead>\n",
       "    <tr style=\"text-align: right;\">\n",
       "      <th></th>\n",
       "      <th>ip_address</th>\n",
       "      <th>email_address</th>\n",
       "      <th>billing_state</th>\n",
       "      <th>user_agent</th>\n",
       "      <th>billing_postal</th>\n",
       "      <th>phone_number</th>\n",
       "      <th>EVENT_TIMESTAMP</th>\n",
       "      <th>billing_address</th>\n",
       "      <th>EVENT_LABEL</th>\n",
       "    </tr>\n",
       "  </thead>\n",
       "  <tbody>\n",
       "    <tr>\n",
       "      <th>0</th>\n",
       "      <td>112.136.132.151</td>\n",
       "      <td>fake_cgonzales@example.net</td>\n",
       "      <td>NC</td>\n",
       "      <td>Mozilla/5.0 (iPad; CPU iPad OS 10_3_3 like Mac...</td>\n",
       "      <td>34491</td>\n",
       "      <td>(555)333 - 9246</td>\n",
       "      <td>2020-02-22 01:38:31</td>\n",
       "      <td>12351 Amanda Knolls Fake St.</td>\n",
       "      <td>legit</td>\n",
       "    </tr>\n",
       "    <tr>\n",
       "      <th>1</th>\n",
       "      <td>192.169.234.143</td>\n",
       "      <td>fake_dustin64@example.net</td>\n",
       "      <td>CO</td>\n",
       "      <td>Mozilla/5.0 (Windows; U; Windows NT 6.1) Apple...</td>\n",
       "      <td>34555</td>\n",
       "      <td>(555)779 - 5604</td>\n",
       "      <td>2020-04-08 23:29:41</td>\n",
       "      <td>691 Deborah Estate Fake St.</td>\n",
       "      <td>legit</td>\n",
       "    </tr>\n",
       "    <tr>\n",
       "      <th>2</th>\n",
       "      <td>185.112.224.79</td>\n",
       "      <td>fake_samuel59@example.net</td>\n",
       "      <td>CO</td>\n",
       "      <td>Mozilla/5.0 (Macintosh; U; Intel Mac OS X 10_7...</td>\n",
       "      <td>33611</td>\n",
       "      <td>(555)948 - 9198</td>\n",
       "      <td>2020-06-28 10:26:20</td>\n",
       "      <td>28583 Joseph Tunnel Fake St.</td>\n",
       "      <td>legit</td>\n",
       "    </tr>\n",
       "    <tr>\n",
       "      <th>3</th>\n",
       "      <td>68.73.183.186</td>\n",
       "      <td>fake_tinalopez@example.net</td>\n",
       "      <td>TN</td>\n",
       "      <td>Mozilla/5.0 (Linux; Android 7.1.1) AppleWebKit...</td>\n",
       "      <td>33520</td>\n",
       "      <td>(555)477 - 7885</td>\n",
       "      <td>2020-04-28 10:23:36</td>\n",
       "      <td>019 Linda Via Fake St.</td>\n",
       "      <td>legit</td>\n",
       "    </tr>\n",
       "    <tr>\n",
       "      <th>4</th>\n",
       "      <td>117.65.246.206</td>\n",
       "      <td>fake_alyssa53@example.com</td>\n",
       "      <td>NM</td>\n",
       "      <td>Mozilla/5.0 (compatible; MSIE 8.0; Windows NT ...</td>\n",
       "      <td>33889</td>\n",
       "      <td>(555)873 - 2599</td>\n",
       "      <td>2020-06-07 16:42:35</td>\n",
       "      <td>1023 Cook Loaf Fake St.</td>\n",
       "      <td>legit</td>\n",
       "    </tr>\n",
       "  </tbody>\n",
       "</table>\n",
       "</div>"
      ],
      "text/plain": [
       "        ip_address               email_address billing_state  \\\n",
       "0  112.136.132.151  fake_cgonzales@example.net            NC   \n",
       "1  192.169.234.143   fake_dustin64@example.net            CO   \n",
       "2   185.112.224.79   fake_samuel59@example.net            CO   \n",
       "3    68.73.183.186  fake_tinalopez@example.net            TN   \n",
       "4   117.65.246.206   fake_alyssa53@example.com            NM   \n",
       "\n",
       "                                          user_agent  billing_postal  \\\n",
       "0  Mozilla/5.0 (iPad; CPU iPad OS 10_3_3 like Mac...           34491   \n",
       "1  Mozilla/5.0 (Windows; U; Windows NT 6.1) Apple...           34555   \n",
       "2  Mozilla/5.0 (Macintosh; U; Intel Mac OS X 10_7...           33611   \n",
       "3  Mozilla/5.0 (Linux; Android 7.1.1) AppleWebKit...           33520   \n",
       "4  Mozilla/5.0 (compatible; MSIE 8.0; Windows NT ...           33889   \n",
       "\n",
       "      phone_number      EVENT_TIMESTAMP               billing_address  \\\n",
       "0  (555)333 - 9246  2020-02-22 01:38:31  12351 Amanda Knolls Fake St.   \n",
       "1  (555)779 - 5604  2020-04-08 23:29:41   691 Deborah Estate Fake St.   \n",
       "2  (555)948 - 9198  2020-06-28 10:26:20  28583 Joseph Tunnel Fake St.   \n",
       "3  (555)477 - 7885  2020-04-28 10:23:36        019 Linda Via Fake St.   \n",
       "4  (555)873 - 2599  2020-06-07 16:42:35       1023 Cook Loaf Fake St.   \n",
       "\n",
       "  EVENT_LABEL  \n",
       "0       legit  \n",
       "1       legit  \n",
       "2       legit  \n",
       "3       legit  \n",
       "4       legit  "
      ]
     },
     "execution_count": 5,
     "metadata": {},
     "output_type": "execute_result"
    }
   ],
   "source": [
    "df_data.head(5)"
   ]
  },
  {
   "cell_type": "code",
   "execution_count": 6,
   "metadata": {},
   "outputs": [
    {
     "name": "stdout",
     "output_type": "stream",
     "text": [
      "<class 'pandas.core.frame.DataFrame'>\n",
      "RangeIndex: 20000 entries, 0 to 19999\n",
      "Data columns (total 9 columns):\n",
      " #   Column           Non-Null Count  Dtype \n",
      "---  ------           --------------  ----- \n",
      " 0   ip_address       20000 non-null  object\n",
      " 1   email_address    20000 non-null  object\n",
      " 2   billing_state    20000 non-null  object\n",
      " 3   user_agent       20000 non-null  object\n",
      " 4   billing_postal   20000 non-null  int64 \n",
      " 5   phone_number     20000 non-null  object\n",
      " 6   EVENT_TIMESTAMP  20000 non-null  object\n",
      " 7   billing_address  20000 non-null  object\n",
      " 8   EVENT_LABEL      20000 non-null  object\n",
      "dtypes: int64(1), object(8)\n",
      "memory usage: 1.4+ MB\n"
     ]
    }
   ],
   "source": [
    "df_data.info()  # general info about the data"
   ]
  },
  {
   "cell_type": "markdown",
   "metadata": {},
   "source": [
    "Our dataframe has **20K records**, and **9 features**. Of these 9 features, 2 are mandatory for Amazon Fraud Detector: ```EVENT_TIMESTAMP``` and ```EVENT_LABEL```. The rest 7 features can be used as **variables** in Amazon Fraud Detector, in order to train a Machine Learning model. "
   ]
  },
  {
   "cell_type": "code",
   "execution_count": 7,
   "metadata": {},
   "outputs": [
    {
     "data": {
      "image/png": "[encoded data removed]",
      "text/plain": [
       "<Figure size 576x396 with 1 Axes>"
      ]
     },
     "metadata": {},
     "output_type": "display_data"
    }
   ],
   "source": [
    "import matplotlib.pyplot as plt\n",
    "\n",
    "plt.style.use('seaborn')\n",
    "df_data.EVENT_LABEL.value_counts().plot.pie(legend=True, autopct='%1.1f%%')\n",
    "plt.show()"
   ]
  },
  {
   "cell_type": "markdown",
   "metadata": {},
   "source": [
    "As expected, there is a big class imbalance. However, Amazon Fraud Detector can take care of these cases, as long as, **fraudulent cases are more than 4%** of the whole data, or 400 cases within a 10K dataset."
   ]
  },
  {
   "cell_type": "markdown",
   "metadata": {},
   "source": [
    "# Step 3: Create Variables and Labels"
   ]
  },
  {
   "cell_type": "markdown",
   "metadata": {},
   "source": [
    "## Variables\n",
    "Variables are the *features* that we will use in our ML models. We have to choose which of the dataframe columns will be used for that, and we have to **map** them to the specific **variable types** that Amazon Fraud Detector offers. More information about the list of available variable types can be found [here](https://docs.aws.amazon.com/frauddetector/latest/ug/create-a-variable.html#variable-types)."
   ]
  },
  {
   "cell_type": "code",
   "execution_count": 8,
   "metadata": {},
   "outputs": [
    {
     "data": {
      "text/plain": [
       "{'ResponseMetadata': {'RequestId': '35e10222-c381-423e-989f-586ac8f82b96',\n",
       "  'HTTPStatusCode': 200,\n",
       "  'HTTPHeaders': {'content-type': 'application/x-amz-json-1.1',\n",
       "   'date': 'Thu, 10 Sep 2020 03:22:46 GMT',\n",
       "   'x-amzn-requestid': '35e10222-c381-423e-989f-586ac8f82b96',\n",
       "   'content-length': '2',\n",
       "   'connection': 'keep-alive'},\n",
       "  'RetryAttempts': 0}}"
      ]
     },
     "execution_count": 8,
     "metadata": {},
     "output_type": "execute_result"
    }
   ],
   "source": [
    "# Create variable email_address\n",
    "fraudDetector_client.create_variable(\n",
    "    name = 'email_address',\n",
    "    variableType = 'EMAIL_ADDRESS',\n",
    "    dataSource = 'EVENT',\n",
    "    dataType = 'STRING',\n",
    "    defaultValue = '<unknown>'\n",
    ")\n",
    "\n",
    "# Create variable ip_address\n",
    "fraudDetector_client.create_variable(\n",
    "    name = 'ip_address',\n",
    "    variableType = 'IP_ADDRESS',\n",
    "    dataSource = 'EVENT',\n",
    "    dataType = 'STRING',\n",
    "    defaultValue = '<unknown>'\n",
    ")\n",
    "\n",
    "# Create variable billing_state\n",
    "fraudDetector_client.create_variable(\n",
    "    name = 'billing_state',\n",
    "    variableType = 'BILLING_STATE',\n",
    "    dataSource = 'EVENT',\n",
    "    dataType = 'STRING',\n",
    "    defaultValue = '<unknown>'\n",
    ")\n",
    "\n",
    "# Create variable user_agent\n",
    "fraudDetector_client.create_variable(\n",
    "    name = 'user_agent',\n",
    "    variableType = 'USERAGENT',\n",
    "    dataSource = 'EVENT',\n",
    "    dataType = 'STRING',\n",
    "    defaultValue = '<unknown>'\n",
    ")\n",
    "\n",
    "# Create variable billing_postal\n",
    "fraudDetector_client.create_variable(\n",
    "    name = 'billing_postal',\n",
    "    variableType = 'BILLING_ZIP',\n",
    "    dataSource = 'EVENT',\n",
    "    dataType = 'STRING',\n",
    "    defaultValue = '<unknown>'\n",
    ")\n",
    "\n",
    "# Create variable phone_number\n",
    "fraudDetector_client.create_variable(\n",
    "    name = 'phone_number',\n",
    "    variableType = 'PHONE_NUMBER',\n",
    "    dataSource = 'EVENT',\n",
    "    dataType = 'STRING',\n",
    "    defaultValue = '<unknown>'\n",
    ")\n",
    "\n",
    "# Create variable billing_address\n",
    "fraudDetector_client.create_variable(\n",
    "    name = 'billing_address',\n",
    "    variableType = 'BILLING_ADDRESS_L1',\n",
    "    dataSource = 'EVENT',\n",
    "    dataType = 'STRING',\n",
    "    defaultValue = '<unknown>'\n",
    ")"
   ]
  },
  {
   "cell_type": "markdown",
   "metadata": {},
   "source": [
    "## Labels\n",
    "Labels are the **ground truth values that describe whether an event is fraudulent or legitimate**. This has to be **exactly** the same word that is used in our CSV file. For example, a fraudulent case could be highlighted as 'fraud', 'Fraud', '1', 'F' etc., while a legitimate even could be indicated as 'legit', 'Legit', '0', 'L' etc. We have to use exactly the same notation with our CSV file, when creating our labels."
   ]
  },
  {
   "cell_type": "code",
   "execution_count": 9,
   "metadata": {},
   "outputs": [
    {
     "data": {
      "text/plain": [
       "{'ResponseMetadata': {'RequestId': 'bf1a4836-70f9-4f9f-8158-4ea866e34484',\n",
       "  'HTTPStatusCode': 200,\n",
       "  'HTTPHeaders': {'content-type': 'application/x-amz-json-1.1',\n",
       "   'date': 'Thu, 10 Sep 2020 03:23:21 GMT',\n",
       "   'x-amzn-requestid': 'bf1a4836-70f9-4f9f-8158-4ea866e34484',\n",
       "   'content-length': '2',\n",
       "   'connection': 'keep-alive'},\n",
       "  'RetryAttempts': 0}}"
      ]
     },
     "execution_count": 9,
     "metadata": {},
     "output_type": "execute_result"
    }
   ],
   "source": [
    "# create label for fraud\n",
    "fraudDetector_client.put_label(\n",
    "    name = 'fraud',\n",
    "    description = 'label for fraud events'\n",
    ")\n",
    "\n",
    "# create label for legit\n",
    "fraudDetector_client.put_label(\n",
    "    name = 'legit',\n",
    "    description = 'label for legitimate events'\n",
    ")"
   ]
  },
  {
   "cell_type": "markdown",
   "metadata": {},
   "source": [
    "# Step 4: Define Entity and Event type"
   ]
  },
  {
   "cell_type": "markdown",
   "metadata": {},
   "source": [
    "## Entity type\n",
    "Entity type describes **who** will perform an actibity (event), for which, we would like to analyze for fraudulent activity. In many cases this is a customer."
   ]
  },
  {
   "cell_type": "code",
   "execution_count": 10,
   "metadata": {},
   "outputs": [
    {
     "data": {
      "text/plain": [
       "{'ResponseMetadata': {'RequestId': '7f745a2c-d57a-4f76-bd08-85f9a621470b',\n",
       "  'HTTPStatusCode': 200,\n",
       "  'HTTPHeaders': {'content-type': 'application/x-amz-json-1.1',\n",
       "   'date': 'Thu, 10 Sep 2020 03:23:23 GMT',\n",
       "   'x-amzn-requestid': '7f745a2c-d57a-4f76-bd08-85f9a621470b',\n",
       "   'content-length': '2',\n",
       "   'connection': 'keep-alive'},\n",
       "  'RetryAttempts': 0}}"
      ]
     },
     "execution_count": 10,
     "metadata": {},
     "output_type": "execute_result"
    }
   ],
   "source": [
    "# create an entity type\n",
    "fraudDetector_client.put_entity_type(\n",
    "    name = 'sample_customer',\n",
    "    description = 'sample customer entity type'\n",
    ")"
   ]
  },
  {
   "cell_type": "markdown",
   "metadata": {},
   "source": [
    "## Event type\n",
    "Event is the **activity** that the Entity will perform, which will be analyzed by Amazon Fraud Detector. Once defined, you can build Models and Detectors that evaluate the risk for specific event types. For example, an Event could be a \"sample registration\" task that a customer would perform. Other Event types could be an online transaction, the submission of a comment/review etc. When we define an Event type, we need to also include the Variables and Labels that we created in our previous step."
   ]
  },
  {
   "cell_type": "code",
   "execution_count": 11,
   "metadata": {},
   "outputs": [
    {
     "data": {
      "text/plain": [
       "{'ResponseMetadata': {'RequestId': '1b866168-7386-49f8-8888-02a1bd53c00e',\n",
       "  'HTTPStatusCode': 200,\n",
       "  'HTTPHeaders': {'content-type': 'application/x-amz-json-1.1',\n",
       "   'date': 'Thu, 10 Sep 2020 03:23:28 GMT',\n",
       "   'x-amzn-requestid': '1b866168-7386-49f8-8888-02a1bd53c00e',\n",
       "   'content-length': '2',\n",
       "   'connection': 'keep-alive'},\n",
       "  'RetryAttempts': 0}}"
      ]
     },
     "execution_count": 11,
     "metadata": {},
     "output_type": "execute_result"
    }
   ],
   "source": [
    "fraudDetector_client.put_event_type(\n",
    "    name = 'sample_registration',\n",
    "    eventVariables = ['ip_address', 'email_address', 'billing_state', 'user_agent', 'billing_postal', 'phone_number', 'billing_address'],\n",
    "    labels = ['legit', 'fraud'],\n",
    "    entityTypes = ['sample_customer']\n",
    ")"
   ]
  },
  {
   "cell_type": "markdown",
   "metadata": {},
   "source": [
    "# Step 5: Create and train a ML model\n",
    "\n",
    "Amazon Fraud Detector models learn to detect fraud for a specific event type. In Amazon Fraud Detector, you **first create a Model**, which acts as a **container** for your **Model versions**. Each time you train a model, a new version is created. "
   ]
  },
  {
   "cell_type": "markdown",
   "metadata": {},
   "source": [
    "A model version is created by calling the ```CreateModel``` and ```CreateModelVersion``` operations. \n",
    "\n",
    "- ```CreateModel``` initiates the model, which acts as a container for your model versions. \n",
    "\n",
    "- ```CreateModelVersion``` starts the training process, which results in a specific version of the model. A new version of the solution is created each time you call ```CreateModelVersion```. \n"
   ]
  },
  {
   "cell_type": "code",
   "execution_count": 12,
   "metadata": {},
   "outputs": [],
   "source": [
    "MODEL_NAME = 'sample_fraud_detection_model_all_variables'\n",
    "               "
   ]
  },
  {
   "cell_type": "code",
   "execution_count": 13,
   "metadata": {},
   "outputs": [
    {
     "data": {
      "text/plain": [
       "{'ResponseMetadata': {'RequestId': '3384fc0c-9355-433f-981c-6cf2bc9ecd49',\n",
       "  'HTTPStatusCode': 200,\n",
       "  'HTTPHeaders': {'content-type': 'application/x-amz-json-1.1',\n",
       "   'date': 'Thu, 10 Sep 2020 03:23:35 GMT',\n",
       "   'x-amzn-requestid': '3384fc0c-9355-433f-981c-6cf2bc9ecd49',\n",
       "   'content-length': '2',\n",
       "   'connection': 'keep-alive'},\n",
       "  'RetryAttempts': 0}}"
      ]
     },
     "execution_count": 13,
     "metadata": {},
     "output_type": "execute_result"
    }
   ],
   "source": [
    "# create model container\n",
    "fraudDetector_client.create_model(\n",
    "    modelId = MODEL_NAME,\n",
    "    eventTypeName = 'sample_registration',\n",
    "    modelType = 'ONLINE_FRAUD_INSIGHTS'\n",
    ")"
   ]
  },
  {
   "cell_type": "code",
   "execution_count": null,
   "metadata": {},
   "outputs": [],
   "source": [
    "# start training a new model version\n",
    "fraudDetector_client.create_model_version (\n",
    "    modelId = MODEL_NAME,\n",
    "    modelType = 'ONLINE_FRAUD_INSIGHTS',\n",
    "    trainingDataSource = 'EXTERNAL_EVENTS',\n",
    "    trainingDataSchema = {\n",
    "        'modelVariables' : ['ip_address', 'email_address', 'billing_state', 'user_agent', 'billing_postal', 'phone_number', 'billing_address'],\n",
    "        'labelSchema' : {\n",
    "            'labelMapper' : {\n",
    "                'FRAUD' : ['fraud'],\n",
    "                'LEGIT' : ['legit']\n",
    "            }\n",
    "        }\n",
    "    }, \n",
    "    externalEventsDetail = {\n",
    "        'dataLocation' : S3_FILE_LOC,\n",
    "        'dataAccessRoleArn' : ARN_ROLE\n",
    "    }\n",
    ")"
   ]
  },
  {
   "cell_type": "markdown",
   "metadata": {},
   "source": [
    "Training can take saveral hours, depending on your dataset. In order to know how training progresses, we add a small piece of code that **polls the training process** in regular intervals and displays the progress. "
   ]
  },
  {
   "cell_type": "code",
   "execution_count": 18,
   "metadata": {},
   "outputs": [
    {
     "name": "stdout",
     "output_type": "stream",
     "text": [
      "-\n",
      "Training state: TRAINING_COMPLETE\n"
     ]
    }
   ],
   "source": [
    "import time\n",
    "\n",
    "training_state = None\n",
    "while training_state != \"TRAINING_COMPLETE\":\n",
    "    response = fraudDetector_client.get_model_version(\n",
    "        modelId = MODEL_NAME, \n",
    "        modelType = \"ONLINE_FRAUD_INSIGHTS\", \n",
    "        modelVersionNumber = '1.0'\n",
    "    )\n",
    "    training_state = response['status']\n",
    "    print(\"-\", end=\"\")\n",
    "    time.sleep(60)  # poll once every 1 min\n",
    "\n",
    "print(\"\\nTraining state:\", training_state)"
   ]
  },
  {
   "cell_type": "markdown",
   "metadata": {},
   "source": [
    "Amazon Fraud Detector keeps aside 10% of the data for validation/testing purposes. You can check the performance of the model by requesting the ROC AUC metric."
   ]
  },
  {
   "cell_type": "code",
   "execution_count": 19,
   "metadata": {},
   "outputs": [
    {
     "name": "stdout",
     "output_type": "stream",
     "text": [
      "ROC AUC:  0.9558449387550354\n"
     ]
    }
   ],
   "source": [
    "# get model report for the trained model\n",
    "\n",
    "model_report = fraudDetector_client.describe_model_versions(\n",
    "    modelId = MODEL_NAME,\n",
    "    modelVersionNumber = '1.0',\n",
    "    modelType = 'ONLINE_FRAUD_INSIGHTS'\n",
    ")\n",
    "\n",
    "print('ROC AUC: ',model_report['modelVersionDetails'][0]['trainingResult']['trainingMetrics']['auc'])"
   ]
  },
  {
   "cell_type": "markdown",
   "metadata": {},
   "source": [
    "After reviewing the model performance, we need to **activate the Model** to make it available for use by Detectors, in real-time fraud predictions. Amazon Fraud Detector will deploy the model in **multiple availability zones** for redundancy with **auto-scaling turned on** to ensure the model scales with the number of fraud predictions you are making. To activate the model, call the ```UpdateModelVersionStatus``` API and update the status to ```ACTIVE```."
   ]
  },
  {
   "cell_type": "code",
   "execution_count": 20,
   "metadata": {},
   "outputs": [],
   "source": [
    "# select model status\n",
    "MODEL_STATUS = 'ACTIVE' \n",
    "# MODEL_STATUS = 'INACTIVE'\n",
    "\n",
    "response = fraudDetector_client.update_model_version_status (\n",
    "modelId = MODEL_NAME,\n",
    "modelType = 'ONLINE_FRAUD_INSIGHTS',\n",
    "modelVersionNumber = '1.00',\n",
    "status = MODEL_STATUS\n",
    ")\n"
   ]
  },
  {
   "cell_type": "markdown",
   "metadata": {},
   "source": [
    "Deployment may take ~10min, so, we also poll regularly, to know how the process progresses."
   ]
  },
  {
   "cell_type": "code",
   "execution_count": 21,
   "metadata": {},
   "outputs": [
    {
     "name": "stdout",
     "output_type": "stream",
     "text": [
      "-----------\n",
      "Deployment state: ACTIVE\n"
     ]
    }
   ],
   "source": [
    "deployment_state = None\n",
    "while deployment_state != MODEL_STATUS:\n",
    "    response = fraudDetector_client.get_model_version(\n",
    "        modelId = MODEL_NAME, \n",
    "        modelType = \"ONLINE_FRAUD_INSIGHTS\", \n",
    "        modelVersionNumber = '1.0'\n",
    "    )\n",
    "    deployment_state = response['status']\n",
    "    print(\"-\", end=\"\")\n",
    "    time.sleep(60)  # poll once every 1 min\n",
    "\n",
    "print(\"\\nDeployment state:\", deployment_state)\n"
   ]
  },
  {
   "cell_type": "markdown",
   "metadata": {},
   "source": [
    "# Step 6: Create a Detector, Outcome, Rules, and Detector version\n",
    "\n",
    "A detector contains the detection logic, such as the models and rules, for a particular event that you want to evaluate for fraud. During a fraud prediction, you will specify the detector that you want to use to evaluate your event. To create a detector, complete the following steps. "
   ]
  },
  {
   "cell_type": "markdown",
   "metadata": {},
   "source": [
    "i. **Create a detector**. A detector acts as a container for your detector versions."
   ]
  },
  {
   "cell_type": "code",
   "execution_count": 22,
   "metadata": {},
   "outputs": [],
   "source": [
    "DETECTOR_NAME = 'sample_detector_all_variables'\n",
    "               "
   ]
  },
  {
   "cell_type": "code",
   "execution_count": 23,
   "metadata": {},
   "outputs": [
    {
     "data": {
      "text/plain": [
       "{'ResponseMetadata': {'RequestId': '575eb085-62d4-4d4c-95de-d151e6e82e11',\n",
       "  'HTTPStatusCode': 200,\n",
       "  'HTTPHeaders': {'content-type': 'application/x-amz-json-1.1',\n",
       "   'date': 'Thu, 10 Sep 2020 04:38:56 GMT',\n",
       "   'x-amzn-requestid': '575eb085-62d4-4d4c-95de-d151e6e82e11',\n",
       "   'content-length': '2',\n",
       "   'connection': 'keep-alive'},\n",
       "  'RetryAttempts': 0}}"
      ]
     },
     "execution_count": 23,
     "metadata": {},
     "output_type": "execute_result"
    }
   ],
   "source": [
    "fraudDetector_client.put_detector (\n",
    "    detectorId = DETECTOR_NAME,\n",
    "    eventTypeName = 'sample_registration'\n",
    ")"
   ]
  },
  {
   "cell_type": "markdown",
   "metadata": {},
   "source": [
    "ii. **Create outcomes**. An outcome is the result of a fraud prediction. Create an outcome for each possible fraud prediction result. For example, you may want outcomes to represent risk levels (high_risk, medium_risk, and low_risk) or actions (approve, review). Once created, you can add one or more outcomes to a rule."
   ]
  },
  {
   "cell_type": "code",
   "execution_count": 24,
   "metadata": {},
   "outputs": [
    {
     "data": {
      "text/plain": [
       "{'ResponseMetadata': {'RequestId': '9c3549d6-5092-4bdf-8a95-272a3c321d23',\n",
       "  'HTTPStatusCode': 200,\n",
       "  'HTTPHeaders': {'content-type': 'application/x-amz-json-1.1',\n",
       "   'date': 'Thu, 10 Sep 2020 04:39:00 GMT',\n",
       "   'x-amzn-requestid': '9c3549d6-5092-4bdf-8a95-272a3c321d23',\n",
       "   'content-length': '2',\n",
       "   'connection': 'keep-alive'},\n",
       "  'RetryAttempts': 0}}"
      ]
     },
     "execution_count": 24,
     "metadata": {},
     "output_type": "execute_result"
    }
   ],
   "source": [
    "# for high risk cases\n",
    "fraudDetector_client.put_outcome(\n",
    "    name = 'verify_customer',\n",
    "    description = 'this outcome initiates a verification workflow'\n",
    ")\n",
    "\n",
    "# for medium risk cases\n",
    "fraudDetector_client.put_outcome(\n",
    "    name = 'review',\n",
    "    description = 'this outcome sidelines event for review'\n",
    ")\n",
    "\n",
    "# for low risk cases\n",
    "fraudDetector_client.put_outcome(\n",
    "    name = 'approve',\n",
    "    description = 'this outcome approves the event'\n",
    ")"
   ]
  },
  {
   "cell_type": "markdown",
   "metadata": {},
   "source": [
    "iii. **Create rules**. A rule is a condition that tells Amazon Fraud Detector how to interpret variable values during a fraud prediction. A rule consists of one or more variables, a logic expression, and one or more outcomes. A **detector must have at least one associated rule**. Rules in a detector are evaluated as part of a fraud prediction. \n",
    " \n",
    " Each rule must contain a single expression that captures your business logic. All expressions must evaluate to a Boolean value (true or false) and be less than 4,000 characters in length. If-else type conditions are not supported. All variables used in the expression must be predefined in the evaluated event type. "
   ]
  },
  {
   "cell_type": "code",
   "execution_count": 31,
   "metadata": {},
   "outputs": [],
   "source": [
    "# in order to use the model score with rules, we need to construct a predefined variable name\n",
    "\n",
    "MODEL_INSIGHTS = MODEL_NAME + '_insightscore'  # to be used when getting real-time predictions\n",
    "MODEL_SCORE = '$' + MODEL_INSIGHTS  # to be used when defining rules\n"
   ]
  },
  {
   "cell_type": "code",
   "execution_count": 26,
   "metadata": {},
   "outputs": [
    {
     "data": {
      "text/plain": [
       "{'rule': {'detectorId': 'sample_detector_all_variables',\n",
       "  'ruleId': 'low_fraud_risk',\n",
       "  'ruleVersion': '1'},\n",
       " 'ResponseMetadata': {'RequestId': '4930d306-670d-4568-ba67-7aefdb04ea1d',\n",
       "  'HTTPStatusCode': 200,\n",
       "  'HTTPHeaders': {'content-type': 'application/x-amz-json-1.1',\n",
       "   'date': 'Thu, 10 Sep 2020 04:39:06 GMT',\n",
       "   'x-amzn-requestid': '4930d306-670d-4568-ba67-7aefdb04ea1d',\n",
       "   'content-length': '99',\n",
       "   'connection': 'keep-alive'},\n",
       "  'RetryAttempts': 0}}"
      ]
     },
     "execution_count": 26,
     "metadata": {},
     "output_type": "execute_result"
    }
   ],
   "source": [
    "# for high risk cases\n",
    "fraudDetector_client.create_rule(\n",
    "    ruleId = 'high_fraud_risk',\n",
    "    detectorId = DETECTOR_NAME,\n",
    "    expression = MODEL_SCORE + ' > 900',\n",
    "    language = 'DETECTORPL',\n",
    "    outcomes = ['verify_customer']\n",
    ")\n",
    "\n",
    "# for medium risk cases\n",
    "fraudDetector_client.create_rule(\n",
    "    ruleId = 'medium_fraud_risk',\n",
    "    detectorId = DETECTOR_NAME,\n",
    "    expression = MODEL_SCORE + ' <= 900 and ' + MODEL_SCORE + ' > 700',\n",
    "    language = 'DETECTORPL',\n",
    "    outcomes = ['review']\n",
    ")\n",
    "\n",
    "# for low risk cases\n",
    "fraudDetector_client.create_rule(\n",
    "    ruleId = 'low_fraud_risk',\n",
    "    detectorId = DETECTOR_NAME,\n",
    "    expression = MODEL_SCORE + ' <= 700',\n",
    "    language = 'DETECTORPL',\n",
    "    outcomes = ['approve']\n",
    ")"
   ]
  },
  {
   "cell_type": "markdown",
   "metadata": {},
   "source": [
    "You can **update a rule** by calling the ```UpdateRuleVersion``` API. The following example updates the model score thresholds for the rules high_fraud_risk and medium_fraud_risk from 900 to 950. "
   ]
  },
  {
   "cell_type": "code",
   "execution_count": 28,
   "metadata": {},
   "outputs": [
    {
     "data": {
      "text/plain": [
       "{'rule': {'detectorId': 'sample_detector_all_variables',\n",
       "  'ruleId': 'medium_fraud_risk',\n",
       "  'ruleVersion': '2'},\n",
       " 'ResponseMetadata': {'RequestId': '5a866a0b-24c7-447b-b5a8-23c1e55c1b85',\n",
       "  'HTTPStatusCode': 200,\n",
       "  'HTTPHeaders': {'content-type': 'application/x-amz-json-1.1',\n",
       "   'date': 'Thu, 10 Sep 2020 04:39:58 GMT',\n",
       "   'x-amzn-requestid': '5a866a0b-24c7-447b-b5a8-23c1e55c1b85',\n",
       "   'content-length': '102',\n",
       "   'connection': 'keep-alive'},\n",
       "  'RetryAttempts': 0}}"
      ]
     },
     "execution_count": 28,
     "metadata": {},
     "output_type": "execute_result"
    }
   ],
   "source": [
    "fraudDetector_client.update_rule_version(\n",
    "    rule = {\n",
    "        'detectorId' : DETECTOR_NAME,\n",
    "        'ruleId' : 'high_fraud_risk',\n",
    "        'ruleVersion' : '1'\n",
    "    },\n",
    "    expression = MODEL_SCORE + ' > 950',\n",
    "    language = 'DETECTORPL',\n",
    "    outcomes = ['verify_customer']\n",
    ")\n",
    "\n",
    "fraudDetector_client.update_rule_version(\n",
    "    rule = {\n",
    "        'detectorId' : DETECTOR_NAME,\n",
    "        'ruleId' : 'medium_fraud_risk',\n",
    "        'ruleVersion' : '1'\n",
    "    },\n",
    "    expression = MODEL_SCORE + ' <= 950 and ' + MODEL_SCORE + ' > 700',\n",
    "    language = 'DETECTORPL',\n",
    "    outcomes = ['review']\n",
    ")"
   ]
  },
  {
   "cell_type": "markdown",
   "metadata": {},
   "source": [
    "iv. **Create a detector version**. A detector version defines the specific models and rules that will be run as part of a fraud prediction. Each detector version has a status of ```DRAFT```, ```ACTIVE```, or ```INACTIVE```. Only one detector version can be in ```ACTIVE``` status at a time. During the ```GetEventPrediction``` request, Amazon Fraud Detector will use the ```ACTIVE``` detector if no ```DetectorVersion``` is specified. "
   ]
  },
  {
   "cell_type": "code",
   "execution_count": 29,
   "metadata": {},
   "outputs": [
    {
     "data": {
      "text/plain": [
       "{'ResponseMetadata': {'RequestId': '0dfe98c4-3486-4f33-b48e-b932a9f94b25',\n",
       "  'HTTPStatusCode': 200,\n",
       "  'HTTPHeaders': {'content-type': 'application/x-amz-json-1.1',\n",
       "   'date': 'Thu, 10 Sep 2020 04:40:12 GMT',\n",
       "   'x-amzn-requestid': '0dfe98c4-3486-4f33-b48e-b932a9f94b25',\n",
       "   'content-length': '2',\n",
       "   'connection': 'keep-alive'},\n",
       "  'RetryAttempts': 0}}"
      ]
     },
     "execution_count": 29,
     "metadata": {},
     "output_type": "execute_result"
    }
   ],
   "source": [
    "fraudDetector_client.create_detector_version(\n",
    "    detectorId = DETECTOR_NAME,\n",
    "    rules = [{\n",
    "        'detectorId' : DETECTOR_NAME,\n",
    "        'ruleId' : 'high_fraud_risk',\n",
    "        'ruleVersion' : '1'\n",
    "    },\n",
    "    {\n",
    "        'detectorId' : DETECTOR_NAME,\n",
    "        'ruleId' : 'medium_fraud_risk',\n",
    "        'ruleVersion' : '1'\n",
    "    },\n",
    "    {\n",
    "        'detectorId' : DETECTOR_NAME,\n",
    "        'ruleId' : 'low_fraud_risk',\n",
    "        'ruleVersion' : '1'\n",
    "    }\n",
    "    ],\n",
    "    modelVersions = [{\n",
    "        'modelId' : MODEL_NAME,\n",
    "        'modelType': 'ONLINE_FRAUD_INSIGHTS',\n",
    "        'modelVersionNumber' : '1.00'\n",
    "    }],\n",
    "    ruleExecutionMode = 'FIRST_MATCHED'\n",
    ")\n",
    "\n",
    "# activate the newly created detector\n",
    "fraudDetector_client.update_detector_version_status(\n",
    "    detectorId = DETECTOR_NAME,\n",
    "    detectorVersionId = '1',\n",
    "    status = 'ACTIVE'\n",
    ")"
   ]
  },
  {
   "cell_type": "markdown",
   "metadata": {},
   "source": [
    "# Step 7: Get fraud predictions"
   ]
  },
  {
   "cell_type": "markdown",
   "metadata": {},
   "source": [
    "Getting one individual prediction (legit case)."
   ]
  },
  {
   "cell_type": "code",
   "execution_count": 32,
   "metadata": {},
   "outputs": [
    {
     "name": "stdout",
     "output_type": "stream",
     "text": [
      "ML fraud prediction [0,1000]: 363.0\n",
      "Activated rule: low_fraud_risk\n",
      "Outcome: approve\n"
     ]
    }
   ],
   "source": [
    "response = fraudDetector_client.get_event_prediction(\n",
    "    detectorId = DETECTOR_NAME,\n",
    "    eventId = '802454d3-f7d8-482d-97e8-c4b6db9a0428',\n",
    "    eventTypeName = 'sample_registration',\n",
    "    eventTimestamp = '2020-07-13T23:18:21Z',\n",
    "    entities = [{'entityType':'sample_customer', 'entityId':'12345'}],\n",
    "    eventVariables = {\n",
    "        'email_address' : 'johndoe@exampledomain.com',\n",
    "        'ip_address' : '1.2.3.4',\n",
    "        'billing_state': 'TX',\n",
    "        'user_agent': 'Mozilla/5.0 (iPad; CPU iPad OS 10_3_3 like Mac OS X) AppleWebKit/532.2 (KHTML, like Gecko) CriOS/34.0.827.0 Mobile/13K063 Safari/532.2',\n",
    "        'billing_postal': '34491',\n",
    "        'phone_number': '(555)333 - 9246',\n",
    "        'billing_address': '12351 Amanda Knolls Fake St.'  \n",
    "    }\n",
    ")\n",
    "\n",
    "print('ML fraud prediction [0,1000]:', response['modelScores'][0]['scores'][MODEL_INSIGHTS])\n",
    "print('Activated rule:', response['ruleResults'][0]['ruleId'])\n",
    "print('Outcome:', response['ruleResults'][0]['outcomes'][0])"
   ]
  },
  {
   "cell_type": "markdown",
   "metadata": {},
   "source": [
    "Getting one individual prediction (fraudulent case)."
   ]
  },
  {
   "cell_type": "code",
   "execution_count": 33,
   "metadata": {},
   "outputs": [
    {
     "name": "stdout",
     "output_type": "stream",
     "text": [
      "ML fraud prediction [0,1000]: 1000.0\n",
      "Activated rule: high_fraud_risk\n",
      "Outcome: verify_customer\n"
     ]
    }
   ],
   "source": [
    "response = fraudDetector_client.get_event_prediction(\n",
    "    detectorId = DETECTOR_NAME,\n",
    "    eventId = '802454d3-f7d8-482d-97e8-c4b6db9a0428',\n",
    "    eventTypeName = 'sample_registration',\n",
    "    eventTimestamp = '2020-07-13T23:18:21Z',\n",
    "    entities = [{'entityType':'sample_customer', 'entityId':'12345'}],\n",
    "    eventVariables = {\n",
    "        'email_address' : 'fake_timothysmith@example.com',\n",
    "        'ip_address' : '59.157.144.1',\n",
    "        'billing_state': 'AZ',\n",
    "        'user_agent': 'Mozilla/5.0 (iPod; U; CPU iPhone OS 3_0 like Mac OS X; sid-ET) AppleWebKit/534.17.7 (KHTML, like Gecko) Version/4.0.5 Mobile/8B118 Safari/6534.17.7',\n",
    "        'billing_postal': '32931',\n",
    "        'phone_number': '(555)596 - 5579',\n",
    "        'billing_address': '65898 Amy Estate Fake St.'  \n",
    "    }\n",
    ")\n",
    "\n",
    "print('ML fraud prediction [0,1000]:', response['modelScores'][0]['scores'][MODEL_INSIGHTS])\n",
    "print('Activated rule:', response['ruleResults'][0]['ruleId'])\n",
    "print('Outcome:', response['ruleResults'][0]['outcomes'][0])"
   ]
  }
 ],
 "metadata": {
  "kernelspec": {
   "display_name": "conda_python3",
   "language": "python",
   "name": "conda_python3"
  },
  "language_info": {
   "codemirror_mode": {
    "name": "ipython",
    "version": 3
   },
   "file_extension": ".py",
   "mimetype": "text/x-python",
   "name": "python",
   "nbconvert_exporter": "python",
   "pygments_lexer": "ipython3",
   "version": "3.6.10"
  }
 },
 "nbformat": 4,
 "nbformat_minor": 4
}
